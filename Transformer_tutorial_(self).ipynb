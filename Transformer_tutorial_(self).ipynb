{
  "nbformat": 4,
  "nbformat_minor": 0,
  "metadata": {
    "colab": {
      "provenance": []
    },
    "kernelspec": {
      "name": "python3",
      "display_name": "Python 3"
    },
    "language_info": {
      "name": "python"
    },
    "widgets": {
      "application/vnd.jupyter.widget-state+json": {
        "8dc2adb2039c405ea5470313b952f281": {
          "model_module": "@jupyter-widgets/controls",
          "model_name": "HBoxModel",
          "model_module_version": "1.5.0",
          "state": {
            "_dom_classes": [],
            "_model_module": "@jupyter-widgets/controls",
            "_model_module_version": "1.5.0",
            "_model_name": "HBoxModel",
            "_view_count": null,
            "_view_module": "@jupyter-widgets/controls",
            "_view_module_version": "1.5.0",
            "_view_name": "HBoxView",
            "box_style": "",
            "children": [
              "IPY_MODEL_39c8bbccd1c74bc1a26e3ebe431b46f3",
              "IPY_MODEL_4c14739c913949b089751069167b9090",
              "IPY_MODEL_e64beba71bff415eac06566441714e74"
            ],
            "layout": "IPY_MODEL_66e960d4f64b4ed99aa63f772df7925f"
          }
        },
        "39c8bbccd1c74bc1a26e3ebe431b46f3": {
          "model_module": "@jupyter-widgets/controls",
          "model_name": "HTMLModel",
          "model_module_version": "1.5.0",
          "state": {
            "_dom_classes": [],
            "_model_module": "@jupyter-widgets/controls",
            "_model_module_version": "1.5.0",
            "_model_name": "HTMLModel",
            "_view_count": null,
            "_view_module": "@jupyter-widgets/controls",
            "_view_module_version": "1.5.0",
            "_view_name": "HTMLView",
            "description": "",
            "description_tooltip": null,
            "layout": "IPY_MODEL_e6a6fb2cc9b34f85a8259a6774e66a71",
            "placeholder": "​",
            "style": "IPY_MODEL_39161cd2eae84280ac1546d5b4dedd03",
            "value": "Downloading (…)lve/main/config.json: 100%"
          }
        },
        "4c14739c913949b089751069167b9090": {
          "model_module": "@jupyter-widgets/controls",
          "model_name": "FloatProgressModel",
          "model_module_version": "1.5.0",
          "state": {
            "_dom_classes": [],
            "_model_module": "@jupyter-widgets/controls",
            "_model_module_version": "1.5.0",
            "_model_name": "FloatProgressModel",
            "_view_count": null,
            "_view_module": "@jupyter-widgets/controls",
            "_view_module_version": "1.5.0",
            "_view_name": "ProgressView",
            "bar_style": "success",
            "description": "",
            "description_tooltip": null,
            "layout": "IPY_MODEL_3d2b5e5f55274cc9be3d620cb54e9fd1",
            "max": 665,
            "min": 0,
            "orientation": "horizontal",
            "style": "IPY_MODEL_bfa1a2ed28e140bb8b4163445f4cd758",
            "value": 665
          }
        },
        "e64beba71bff415eac06566441714e74": {
          "model_module": "@jupyter-widgets/controls",
          "model_name": "HTMLModel",
          "model_module_version": "1.5.0",
          "state": {
            "_dom_classes": [],
            "_model_module": "@jupyter-widgets/controls",
            "_model_module_version": "1.5.0",
            "_model_name": "HTMLModel",
            "_view_count": null,
            "_view_module": "@jupyter-widgets/controls",
            "_view_module_version": "1.5.0",
            "_view_name": "HTMLView",
            "description": "",
            "description_tooltip": null,
            "layout": "IPY_MODEL_1865f8d7e0c54d94a365b6bf356271a5",
            "placeholder": "​",
            "style": "IPY_MODEL_31966c3121b84187951b91694d7c2117",
            "value": " 665/665 [00:00&lt;00:00, 11.7kB/s]"
          }
        },
        "66e960d4f64b4ed99aa63f772df7925f": {
          "model_module": "@jupyter-widgets/base",
          "model_name": "LayoutModel",
          "model_module_version": "1.2.0",
          "state": {
            "_model_module": "@jupyter-widgets/base",
            "_model_module_version": "1.2.0",
            "_model_name": "LayoutModel",
            "_view_count": null,
            "_view_module": "@jupyter-widgets/base",
            "_view_module_version": "1.2.0",
            "_view_name": "LayoutView",
            "align_content": null,
            "align_items": null,
            "align_self": null,
            "border": null,
            "bottom": null,
            "display": null,
            "flex": null,
            "flex_flow": null,
            "grid_area": null,
            "grid_auto_columns": null,
            "grid_auto_flow": null,
            "grid_auto_rows": null,
            "grid_column": null,
            "grid_gap": null,
            "grid_row": null,
            "grid_template_areas": null,
            "grid_template_columns": null,
            "grid_template_rows": null,
            "height": null,
            "justify_content": null,
            "justify_items": null,
            "left": null,
            "margin": null,
            "max_height": null,
            "max_width": null,
            "min_height": null,
            "min_width": null,
            "object_fit": null,
            "object_position": null,
            "order": null,
            "overflow": null,
            "overflow_x": null,
            "overflow_y": null,
            "padding": null,
            "right": null,
            "top": null,
            "visibility": null,
            "width": null
          }
        },
        "e6a6fb2cc9b34f85a8259a6774e66a71": {
          "model_module": "@jupyter-widgets/base",
          "model_name": "LayoutModel",
          "model_module_version": "1.2.0",
          "state": {
            "_model_module": "@jupyter-widgets/base",
            "_model_module_version": "1.2.0",
            "_model_name": "LayoutModel",
            "_view_count": null,
            "_view_module": "@jupyter-widgets/base",
            "_view_module_version": "1.2.0",
            "_view_name": "LayoutView",
            "align_content": null,
            "align_items": null,
            "align_self": null,
            "border": null,
            "bottom": null,
            "display": null,
            "flex": null,
            "flex_flow": null,
            "grid_area": null,
            "grid_auto_columns": null,
            "grid_auto_flow": null,
            "grid_auto_rows": null,
            "grid_column": null,
            "grid_gap": null,
            "grid_row": null,
            "grid_template_areas": null,
            "grid_template_columns": null,
            "grid_template_rows": null,
            "height": null,
            "justify_content": null,
            "justify_items": null,
            "left": null,
            "margin": null,
            "max_height": null,
            "max_width": null,
            "min_height": null,
            "min_width": null,
            "object_fit": null,
            "object_position": null,
            "order": null,
            "overflow": null,
            "overflow_x": null,
            "overflow_y": null,
            "padding": null,
            "right": null,
            "top": null,
            "visibility": null,
            "width": null
          }
        },
        "39161cd2eae84280ac1546d5b4dedd03": {
          "model_module": "@jupyter-widgets/controls",
          "model_name": "DescriptionStyleModel",
          "model_module_version": "1.5.0",
          "state": {
            "_model_module": "@jupyter-widgets/controls",
            "_model_module_version": "1.5.0",
            "_model_name": "DescriptionStyleModel",
            "_view_count": null,
            "_view_module": "@jupyter-widgets/base",
            "_view_module_version": "1.2.0",
            "_view_name": "StyleView",
            "description_width": ""
          }
        },
        "3d2b5e5f55274cc9be3d620cb54e9fd1": {
          "model_module": "@jupyter-widgets/base",
          "model_name": "LayoutModel",
          "model_module_version": "1.2.0",
          "state": {
            "_model_module": "@jupyter-widgets/base",
            "_model_module_version": "1.2.0",
            "_model_name": "LayoutModel",
            "_view_count": null,
            "_view_module": "@jupyter-widgets/base",
            "_view_module_version": "1.2.0",
            "_view_name": "LayoutView",
            "align_content": null,
            "align_items": null,
            "align_self": null,
            "border": null,
            "bottom": null,
            "display": null,
            "flex": null,
            "flex_flow": null,
            "grid_area": null,
            "grid_auto_columns": null,
            "grid_auto_flow": null,
            "grid_auto_rows": null,
            "grid_column": null,
            "grid_gap": null,
            "grid_row": null,
            "grid_template_areas": null,
            "grid_template_columns": null,
            "grid_template_rows": null,
            "height": null,
            "justify_content": null,
            "justify_items": null,
            "left": null,
            "margin": null,
            "max_height": null,
            "max_width": null,
            "min_height": null,
            "min_width": null,
            "object_fit": null,
            "object_position": null,
            "order": null,
            "overflow": null,
            "overflow_x": null,
            "overflow_y": null,
            "padding": null,
            "right": null,
            "top": null,
            "visibility": null,
            "width": null
          }
        },
        "bfa1a2ed28e140bb8b4163445f4cd758": {
          "model_module": "@jupyter-widgets/controls",
          "model_name": "ProgressStyleModel",
          "model_module_version": "1.5.0",
          "state": {
            "_model_module": "@jupyter-widgets/controls",
            "_model_module_version": "1.5.0",
            "_model_name": "ProgressStyleModel",
            "_view_count": null,
            "_view_module": "@jupyter-widgets/base",
            "_view_module_version": "1.2.0",
            "_view_name": "StyleView",
            "bar_color": null,
            "description_width": ""
          }
        },
        "1865f8d7e0c54d94a365b6bf356271a5": {
          "model_module": "@jupyter-widgets/base",
          "model_name": "LayoutModel",
          "model_module_version": "1.2.0",
          "state": {
            "_model_module": "@jupyter-widgets/base",
            "_model_module_version": "1.2.0",
            "_model_name": "LayoutModel",
            "_view_count": null,
            "_view_module": "@jupyter-widgets/base",
            "_view_module_version": "1.2.0",
            "_view_name": "LayoutView",
            "align_content": null,
            "align_items": null,
            "align_self": null,
            "border": null,
            "bottom": null,
            "display": null,
            "flex": null,
            "flex_flow": null,
            "grid_area": null,
            "grid_auto_columns": null,
            "grid_auto_flow": null,
            "grid_auto_rows": null,
            "grid_column": null,
            "grid_gap": null,
            "grid_row": null,
            "grid_template_areas": null,
            "grid_template_columns": null,
            "grid_template_rows": null,
            "height": null,
            "justify_content": null,
            "justify_items": null,
            "left": null,
            "margin": null,
            "max_height": null,
            "max_width": null,
            "min_height": null,
            "min_width": null,
            "object_fit": null,
            "object_position": null,
            "order": null,
            "overflow": null,
            "overflow_x": null,
            "overflow_y": null,
            "padding": null,
            "right": null,
            "top": null,
            "visibility": null,
            "width": null
          }
        },
        "31966c3121b84187951b91694d7c2117": {
          "model_module": "@jupyter-widgets/controls",
          "model_name": "DescriptionStyleModel",
          "model_module_version": "1.5.0",
          "state": {
            "_model_module": "@jupyter-widgets/controls",
            "_model_module_version": "1.5.0",
            "_model_name": "DescriptionStyleModel",
            "_view_count": null,
            "_view_module": "@jupyter-widgets/base",
            "_view_module_version": "1.2.0",
            "_view_name": "StyleView",
            "description_width": ""
          }
        },
        "6ed86f6ee0164a709e7e91bb3cf667f8": {
          "model_module": "@jupyter-widgets/controls",
          "model_name": "HBoxModel",
          "model_module_version": "1.5.0",
          "state": {
            "_dom_classes": [],
            "_model_module": "@jupyter-widgets/controls",
            "_model_module_version": "1.5.0",
            "_model_name": "HBoxModel",
            "_view_count": null,
            "_view_module": "@jupyter-widgets/controls",
            "_view_module_version": "1.5.0",
            "_view_name": "HBoxView",
            "box_style": "",
            "children": [
              "IPY_MODEL_c36de7651d5e417a965e45b64121c2fa",
              "IPY_MODEL_88370957953e456f93fa9ada733cd98a",
              "IPY_MODEL_a4e7d6d2a75b4f5d966449bebc354bee"
            ],
            "layout": "IPY_MODEL_35ccb619bcb842af8a89efa07411d89d"
          }
        },
        "c36de7651d5e417a965e45b64121c2fa": {
          "model_module": "@jupyter-widgets/controls",
          "model_name": "HTMLModel",
          "model_module_version": "1.5.0",
          "state": {
            "_dom_classes": [],
            "_model_module": "@jupyter-widgets/controls",
            "_model_module_version": "1.5.0",
            "_model_name": "HTMLModel",
            "_view_count": null,
            "_view_module": "@jupyter-widgets/controls",
            "_view_module_version": "1.5.0",
            "_view_name": "HTMLView",
            "description": "",
            "description_tooltip": null,
            "layout": "IPY_MODEL_d605b463e2d749cda863bca66b4123b3",
            "placeholder": "​",
            "style": "IPY_MODEL_a647bfe0850a4411b6916b3047fdda57",
            "value": "Downloading pytorch_model.bin: 100%"
          }
        },
        "88370957953e456f93fa9ada733cd98a": {
          "model_module": "@jupyter-widgets/controls",
          "model_name": "FloatProgressModel",
          "model_module_version": "1.5.0",
          "state": {
            "_dom_classes": [],
            "_model_module": "@jupyter-widgets/controls",
            "_model_module_version": "1.5.0",
            "_model_name": "FloatProgressModel",
            "_view_count": null,
            "_view_module": "@jupyter-widgets/controls",
            "_view_module_version": "1.5.0",
            "_view_name": "ProgressView",
            "bar_style": "success",
            "description": "",
            "description_tooltip": null,
            "layout": "IPY_MODEL_6332d9274a714ebab4e9fdfb20a42210",
            "max": 548118077,
            "min": 0,
            "orientation": "horizontal",
            "style": "IPY_MODEL_e11b42b8c3c949af944f8af4457f06e6",
            "value": 548118077
          }
        },
        "a4e7d6d2a75b4f5d966449bebc354bee": {
          "model_module": "@jupyter-widgets/controls",
          "model_name": "HTMLModel",
          "model_module_version": "1.5.0",
          "state": {
            "_dom_classes": [],
            "_model_module": "@jupyter-widgets/controls",
            "_model_module_version": "1.5.0",
            "_model_name": "HTMLModel",
            "_view_count": null,
            "_view_module": "@jupyter-widgets/controls",
            "_view_module_version": "1.5.0",
            "_view_name": "HTMLView",
            "description": "",
            "description_tooltip": null,
            "layout": "IPY_MODEL_d00368964bb8470c8fd8fb9970b327a8",
            "placeholder": "​",
            "style": "IPY_MODEL_9c4dcaf467224fbd832bdfe9d58cc8dc",
            "value": " 548M/548M [00:02&lt;00:00, 229MB/s]"
          }
        },
        "35ccb619bcb842af8a89efa07411d89d": {
          "model_module": "@jupyter-widgets/base",
          "model_name": "LayoutModel",
          "model_module_version": "1.2.0",
          "state": {
            "_model_module": "@jupyter-widgets/base",
            "_model_module_version": "1.2.0",
            "_model_name": "LayoutModel",
            "_view_count": null,
            "_view_module": "@jupyter-widgets/base",
            "_view_module_version": "1.2.0",
            "_view_name": "LayoutView",
            "align_content": null,
            "align_items": null,
            "align_self": null,
            "border": null,
            "bottom": null,
            "display": null,
            "flex": null,
            "flex_flow": null,
            "grid_area": null,
            "grid_auto_columns": null,
            "grid_auto_flow": null,
            "grid_auto_rows": null,
            "grid_column": null,
            "grid_gap": null,
            "grid_row": null,
            "grid_template_areas": null,
            "grid_template_columns": null,
            "grid_template_rows": null,
            "height": null,
            "justify_content": null,
            "justify_items": null,
            "left": null,
            "margin": null,
            "max_height": null,
            "max_width": null,
            "min_height": null,
            "min_width": null,
            "object_fit": null,
            "object_position": null,
            "order": null,
            "overflow": null,
            "overflow_x": null,
            "overflow_y": null,
            "padding": null,
            "right": null,
            "top": null,
            "visibility": null,
            "width": null
          }
        },
        "d605b463e2d749cda863bca66b4123b3": {
          "model_module": "@jupyter-widgets/base",
          "model_name": "LayoutModel",
          "model_module_version": "1.2.0",
          "state": {
            "_model_module": "@jupyter-widgets/base",
            "_model_module_version": "1.2.0",
            "_model_name": "LayoutModel",
            "_view_count": null,
            "_view_module": "@jupyter-widgets/base",
            "_view_module_version": "1.2.0",
            "_view_name": "LayoutView",
            "align_content": null,
            "align_items": null,
            "align_self": null,
            "border": null,
            "bottom": null,
            "display": null,
            "flex": null,
            "flex_flow": null,
            "grid_area": null,
            "grid_auto_columns": null,
            "grid_auto_flow": null,
            "grid_auto_rows": null,
            "grid_column": null,
            "grid_gap": null,
            "grid_row": null,
            "grid_template_areas": null,
            "grid_template_columns": null,
            "grid_template_rows": null,
            "height": null,
            "justify_content": null,
            "justify_items": null,
            "left": null,
            "margin": null,
            "max_height": null,
            "max_width": null,
            "min_height": null,
            "min_width": null,
            "object_fit": null,
            "object_position": null,
            "order": null,
            "overflow": null,
            "overflow_x": null,
            "overflow_y": null,
            "padding": null,
            "right": null,
            "top": null,
            "visibility": null,
            "width": null
          }
        },
        "a647bfe0850a4411b6916b3047fdda57": {
          "model_module": "@jupyter-widgets/controls",
          "model_name": "DescriptionStyleModel",
          "model_module_version": "1.5.0",
          "state": {
            "_model_module": "@jupyter-widgets/controls",
            "_model_module_version": "1.5.0",
            "_model_name": "DescriptionStyleModel",
            "_view_count": null,
            "_view_module": "@jupyter-widgets/base",
            "_view_module_version": "1.2.0",
            "_view_name": "StyleView",
            "description_width": ""
          }
        },
        "6332d9274a714ebab4e9fdfb20a42210": {
          "model_module": "@jupyter-widgets/base",
          "model_name": "LayoutModel",
          "model_module_version": "1.2.0",
          "state": {
            "_model_module": "@jupyter-widgets/base",
            "_model_module_version": "1.2.0",
            "_model_name": "LayoutModel",
            "_view_count": null,
            "_view_module": "@jupyter-widgets/base",
            "_view_module_version": "1.2.0",
            "_view_name": "LayoutView",
            "align_content": null,
            "align_items": null,
            "align_self": null,
            "border": null,
            "bottom": null,
            "display": null,
            "flex": null,
            "flex_flow": null,
            "grid_area": null,
            "grid_auto_columns": null,
            "grid_auto_flow": null,
            "grid_auto_rows": null,
            "grid_column": null,
            "grid_gap": null,
            "grid_row": null,
            "grid_template_areas": null,
            "grid_template_columns": null,
            "grid_template_rows": null,
            "height": null,
            "justify_content": null,
            "justify_items": null,
            "left": null,
            "margin": null,
            "max_height": null,
            "max_width": null,
            "min_height": null,
            "min_width": null,
            "object_fit": null,
            "object_position": null,
            "order": null,
            "overflow": null,
            "overflow_x": null,
            "overflow_y": null,
            "padding": null,
            "right": null,
            "top": null,
            "visibility": null,
            "width": null
          }
        },
        "e11b42b8c3c949af944f8af4457f06e6": {
          "model_module": "@jupyter-widgets/controls",
          "model_name": "ProgressStyleModel",
          "model_module_version": "1.5.0",
          "state": {
            "_model_module": "@jupyter-widgets/controls",
            "_model_module_version": "1.5.0",
            "_model_name": "ProgressStyleModel",
            "_view_count": null,
            "_view_module": "@jupyter-widgets/base",
            "_view_module_version": "1.2.0",
            "_view_name": "StyleView",
            "bar_color": null,
            "description_width": ""
          }
        },
        "d00368964bb8470c8fd8fb9970b327a8": {
          "model_module": "@jupyter-widgets/base",
          "model_name": "LayoutModel",
          "model_module_version": "1.2.0",
          "state": {
            "_model_module": "@jupyter-widgets/base",
            "_model_module_version": "1.2.0",
            "_model_name": "LayoutModel",
            "_view_count": null,
            "_view_module": "@jupyter-widgets/base",
            "_view_module_version": "1.2.0",
            "_view_name": "LayoutView",
            "align_content": null,
            "align_items": null,
            "align_self": null,
            "border": null,
            "bottom": null,
            "display": null,
            "flex": null,
            "flex_flow": null,
            "grid_area": null,
            "grid_auto_columns": null,
            "grid_auto_flow": null,
            "grid_auto_rows": null,
            "grid_column": null,
            "grid_gap": null,
            "grid_row": null,
            "grid_template_areas": null,
            "grid_template_columns": null,
            "grid_template_rows": null,
            "height": null,
            "justify_content": null,
            "justify_items": null,
            "left": null,
            "margin": null,
            "max_height": null,
            "max_width": null,
            "min_height": null,
            "min_width": null,
            "object_fit": null,
            "object_position": null,
            "order": null,
            "overflow": null,
            "overflow_x": null,
            "overflow_y": null,
            "padding": null,
            "right": null,
            "top": null,
            "visibility": null,
            "width": null
          }
        },
        "9c4dcaf467224fbd832bdfe9d58cc8dc": {
          "model_module": "@jupyter-widgets/controls",
          "model_name": "DescriptionStyleModel",
          "model_module_version": "1.5.0",
          "state": {
            "_model_module": "@jupyter-widgets/controls",
            "_model_module_version": "1.5.0",
            "_model_name": "DescriptionStyleModel",
            "_view_count": null,
            "_view_module": "@jupyter-widgets/base",
            "_view_module_version": "1.2.0",
            "_view_name": "StyleView",
            "description_width": ""
          }
        },
        "6dfb06bf43254e8e94acbeec36f53a02": {
          "model_module": "@jupyter-widgets/controls",
          "model_name": "HBoxModel",
          "model_module_version": "1.5.0",
          "state": {
            "_dom_classes": [],
            "_model_module": "@jupyter-widgets/controls",
            "_model_module_version": "1.5.0",
            "_model_name": "HBoxModel",
            "_view_count": null,
            "_view_module": "@jupyter-widgets/controls",
            "_view_module_version": "1.5.0",
            "_view_name": "HBoxView",
            "box_style": "",
            "children": [
              "IPY_MODEL_8dd362160804475a8808b744fa66f0c5",
              "IPY_MODEL_822d2dd28b2a4d8a93b3f3a46fcd1ece",
              "IPY_MODEL_26e33c86166348299df57651c554aaf3"
            ],
            "layout": "IPY_MODEL_df9619a3437e4fa0b42ce5537c8a48a3"
          }
        },
        "8dd362160804475a8808b744fa66f0c5": {
          "model_module": "@jupyter-widgets/controls",
          "model_name": "HTMLModel",
          "model_module_version": "1.5.0",
          "state": {
            "_dom_classes": [],
            "_model_module": "@jupyter-widgets/controls",
            "_model_module_version": "1.5.0",
            "_model_name": "HTMLModel",
            "_view_count": null,
            "_view_module": "@jupyter-widgets/controls",
            "_view_module_version": "1.5.0",
            "_view_name": "HTMLView",
            "description": "",
            "description_tooltip": null,
            "layout": "IPY_MODEL_ac8a2a901ad94335bd3e0aa236ed6ab8",
            "placeholder": "​",
            "style": "IPY_MODEL_97cd64239c6942b3af4ef509fadf2f43",
            "value": "Downloading (…)neration_config.json: 100%"
          }
        },
        "822d2dd28b2a4d8a93b3f3a46fcd1ece": {
          "model_module": "@jupyter-widgets/controls",
          "model_name": "FloatProgressModel",
          "model_module_version": "1.5.0",
          "state": {
            "_dom_classes": [],
            "_model_module": "@jupyter-widgets/controls",
            "_model_module_version": "1.5.0",
            "_model_name": "FloatProgressModel",
            "_view_count": null,
            "_view_module": "@jupyter-widgets/controls",
            "_view_module_version": "1.5.0",
            "_view_name": "ProgressView",
            "bar_style": "success",
            "description": "",
            "description_tooltip": null,
            "layout": "IPY_MODEL_ad9cec92e29b46b6836725a86c777282",
            "max": 124,
            "min": 0,
            "orientation": "horizontal",
            "style": "IPY_MODEL_dfa4e371bb9b438baabbc3f797c7fc8d",
            "value": 124
          }
        },
        "26e33c86166348299df57651c554aaf3": {
          "model_module": "@jupyter-widgets/controls",
          "model_name": "HTMLModel",
          "model_module_version": "1.5.0",
          "state": {
            "_dom_classes": [],
            "_model_module": "@jupyter-widgets/controls",
            "_model_module_version": "1.5.0",
            "_model_name": "HTMLModel",
            "_view_count": null,
            "_view_module": "@jupyter-widgets/controls",
            "_view_module_version": "1.5.0",
            "_view_name": "HTMLView",
            "description": "",
            "description_tooltip": null,
            "layout": "IPY_MODEL_632657a9196b448f9daa1a662b2edc94",
            "placeholder": "​",
            "style": "IPY_MODEL_3aac30ceb0ad4e2ca724129859f1dd41",
            "value": " 124/124 [00:00&lt;00:00, 1.97kB/s]"
          }
        },
        "df9619a3437e4fa0b42ce5537c8a48a3": {
          "model_module": "@jupyter-widgets/base",
          "model_name": "LayoutModel",
          "model_module_version": "1.2.0",
          "state": {
            "_model_module": "@jupyter-widgets/base",
            "_model_module_version": "1.2.0",
            "_model_name": "LayoutModel",
            "_view_count": null,
            "_view_module": "@jupyter-widgets/base",
            "_view_module_version": "1.2.0",
            "_view_name": "LayoutView",
            "align_content": null,
            "align_items": null,
            "align_self": null,
            "border": null,
            "bottom": null,
            "display": null,
            "flex": null,
            "flex_flow": null,
            "grid_area": null,
            "grid_auto_columns": null,
            "grid_auto_flow": null,
            "grid_auto_rows": null,
            "grid_column": null,
            "grid_gap": null,
            "grid_row": null,
            "grid_template_areas": null,
            "grid_template_columns": null,
            "grid_template_rows": null,
            "height": null,
            "justify_content": null,
            "justify_items": null,
            "left": null,
            "margin": null,
            "max_height": null,
            "max_width": null,
            "min_height": null,
            "min_width": null,
            "object_fit": null,
            "object_position": null,
            "order": null,
            "overflow": null,
            "overflow_x": null,
            "overflow_y": null,
            "padding": null,
            "right": null,
            "top": null,
            "visibility": null,
            "width": null
          }
        },
        "ac8a2a901ad94335bd3e0aa236ed6ab8": {
          "model_module": "@jupyter-widgets/base",
          "model_name": "LayoutModel",
          "model_module_version": "1.2.0",
          "state": {
            "_model_module": "@jupyter-widgets/base",
            "_model_module_version": "1.2.0",
            "_model_name": "LayoutModel",
            "_view_count": null,
            "_view_module": "@jupyter-widgets/base",
            "_view_module_version": "1.2.0",
            "_view_name": "LayoutView",
            "align_content": null,
            "align_items": null,
            "align_self": null,
            "border": null,
            "bottom": null,
            "display": null,
            "flex": null,
            "flex_flow": null,
            "grid_area": null,
            "grid_auto_columns": null,
            "grid_auto_flow": null,
            "grid_auto_rows": null,
            "grid_column": null,
            "grid_gap": null,
            "grid_row": null,
            "grid_template_areas": null,
            "grid_template_columns": null,
            "grid_template_rows": null,
            "height": null,
            "justify_content": null,
            "justify_items": null,
            "left": null,
            "margin": null,
            "max_height": null,
            "max_width": null,
            "min_height": null,
            "min_width": null,
            "object_fit": null,
            "object_position": null,
            "order": null,
            "overflow": null,
            "overflow_x": null,
            "overflow_y": null,
            "padding": null,
            "right": null,
            "top": null,
            "visibility": null,
            "width": null
          }
        },
        "97cd64239c6942b3af4ef509fadf2f43": {
          "model_module": "@jupyter-widgets/controls",
          "model_name": "DescriptionStyleModel",
          "model_module_version": "1.5.0",
          "state": {
            "_model_module": "@jupyter-widgets/controls",
            "_model_module_version": "1.5.0",
            "_model_name": "DescriptionStyleModel",
            "_view_count": null,
            "_view_module": "@jupyter-widgets/base",
            "_view_module_version": "1.2.0",
            "_view_name": "StyleView",
            "description_width": ""
          }
        },
        "ad9cec92e29b46b6836725a86c777282": {
          "model_module": "@jupyter-widgets/base",
          "model_name": "LayoutModel",
          "model_module_version": "1.2.0",
          "state": {
            "_model_module": "@jupyter-widgets/base",
            "_model_module_version": "1.2.0",
            "_model_name": "LayoutModel",
            "_view_count": null,
            "_view_module": "@jupyter-widgets/base",
            "_view_module_version": "1.2.0",
            "_view_name": "LayoutView",
            "align_content": null,
            "align_items": null,
            "align_self": null,
            "border": null,
            "bottom": null,
            "display": null,
            "flex": null,
            "flex_flow": null,
            "grid_area": null,
            "grid_auto_columns": null,
            "grid_auto_flow": null,
            "grid_auto_rows": null,
            "grid_column": null,
            "grid_gap": null,
            "grid_row": null,
            "grid_template_areas": null,
            "grid_template_columns": null,
            "grid_template_rows": null,
            "height": null,
            "justify_content": null,
            "justify_items": null,
            "left": null,
            "margin": null,
            "max_height": null,
            "max_width": null,
            "min_height": null,
            "min_width": null,
            "object_fit": null,
            "object_position": null,
            "order": null,
            "overflow": null,
            "overflow_x": null,
            "overflow_y": null,
            "padding": null,
            "right": null,
            "top": null,
            "visibility": null,
            "width": null
          }
        },
        "dfa4e371bb9b438baabbc3f797c7fc8d": {
          "model_module": "@jupyter-widgets/controls",
          "model_name": "ProgressStyleModel",
          "model_module_version": "1.5.0",
          "state": {
            "_model_module": "@jupyter-widgets/controls",
            "_model_module_version": "1.5.0",
            "_model_name": "ProgressStyleModel",
            "_view_count": null,
            "_view_module": "@jupyter-widgets/base",
            "_view_module_version": "1.2.0",
            "_view_name": "StyleView",
            "bar_color": null,
            "description_width": ""
          }
        },
        "632657a9196b448f9daa1a662b2edc94": {
          "model_module": "@jupyter-widgets/base",
          "model_name": "LayoutModel",
          "model_module_version": "1.2.0",
          "state": {
            "_model_module": "@jupyter-widgets/base",
            "_model_module_version": "1.2.0",
            "_model_name": "LayoutModel",
            "_view_count": null,
            "_view_module": "@jupyter-widgets/base",
            "_view_module_version": "1.2.0",
            "_view_name": "LayoutView",
            "align_content": null,
            "align_items": null,
            "align_self": null,
            "border": null,
            "bottom": null,
            "display": null,
            "flex": null,
            "flex_flow": null,
            "grid_area": null,
            "grid_auto_columns": null,
            "grid_auto_flow": null,
            "grid_auto_rows": null,
            "grid_column": null,
            "grid_gap": null,
            "grid_row": null,
            "grid_template_areas": null,
            "grid_template_columns": null,
            "grid_template_rows": null,
            "height": null,
            "justify_content": null,
            "justify_items": null,
            "left": null,
            "margin": null,
            "max_height": null,
            "max_width": null,
            "min_height": null,
            "min_width": null,
            "object_fit": null,
            "object_position": null,
            "order": null,
            "overflow": null,
            "overflow_x": null,
            "overflow_y": null,
            "padding": null,
            "right": null,
            "top": null,
            "visibility": null,
            "width": null
          }
        },
        "3aac30ceb0ad4e2ca724129859f1dd41": {
          "model_module": "@jupyter-widgets/controls",
          "model_name": "DescriptionStyleModel",
          "model_module_version": "1.5.0",
          "state": {
            "_model_module": "@jupyter-widgets/controls",
            "_model_module_version": "1.5.0",
            "_model_name": "DescriptionStyleModel",
            "_view_count": null,
            "_view_module": "@jupyter-widgets/base",
            "_view_module_version": "1.2.0",
            "_view_name": "StyleView",
            "description_width": ""
          }
        },
        "f80e1c0d62f34972bb9179b9c7ef8148": {
          "model_module": "@jupyter-widgets/controls",
          "model_name": "HBoxModel",
          "model_module_version": "1.5.0",
          "state": {
            "_dom_classes": [],
            "_model_module": "@jupyter-widgets/controls",
            "_model_module_version": "1.5.0",
            "_model_name": "HBoxModel",
            "_view_count": null,
            "_view_module": "@jupyter-widgets/controls",
            "_view_module_version": "1.5.0",
            "_view_name": "HBoxView",
            "box_style": "",
            "children": [
              "IPY_MODEL_443f878513a7405f9017756919781f53",
              "IPY_MODEL_aca1b60d08d545bfac13e465aa349924",
              "IPY_MODEL_85d53c9fe32a4a14b75be12a63d2fd8f"
            ],
            "layout": "IPY_MODEL_39c696c297bd436db123ba1760106606"
          }
        },
        "443f878513a7405f9017756919781f53": {
          "model_module": "@jupyter-widgets/controls",
          "model_name": "HTMLModel",
          "model_module_version": "1.5.0",
          "state": {
            "_dom_classes": [],
            "_model_module": "@jupyter-widgets/controls",
            "_model_module_version": "1.5.0",
            "_model_name": "HTMLModel",
            "_view_count": null,
            "_view_module": "@jupyter-widgets/controls",
            "_view_module_version": "1.5.0",
            "_view_name": "HTMLView",
            "description": "",
            "description_tooltip": null,
            "layout": "IPY_MODEL_0a89dcbe852a4f52b711cc0606fe3296",
            "placeholder": "​",
            "style": "IPY_MODEL_858a3b2c547b432c8fbcd4e4eddf5710",
            "value": "Downloading (…)olve/main/vocab.json: 100%"
          }
        },
        "aca1b60d08d545bfac13e465aa349924": {
          "model_module": "@jupyter-widgets/controls",
          "model_name": "FloatProgressModel",
          "model_module_version": "1.5.0",
          "state": {
            "_dom_classes": [],
            "_model_module": "@jupyter-widgets/controls",
            "_model_module_version": "1.5.0",
            "_model_name": "FloatProgressModel",
            "_view_count": null,
            "_view_module": "@jupyter-widgets/controls",
            "_view_module_version": "1.5.0",
            "_view_name": "ProgressView",
            "bar_style": "success",
            "description": "",
            "description_tooltip": null,
            "layout": "IPY_MODEL_492f652d4f4b4504991e60c8054edb0b",
            "max": 1042301,
            "min": 0,
            "orientation": "horizontal",
            "style": "IPY_MODEL_6a04fd2e663a4ae097808603bb6ea1d5",
            "value": 1042301
          }
        },
        "85d53c9fe32a4a14b75be12a63d2fd8f": {
          "model_module": "@jupyter-widgets/controls",
          "model_name": "HTMLModel",
          "model_module_version": "1.5.0",
          "state": {
            "_dom_classes": [],
            "_model_module": "@jupyter-widgets/controls",
            "_model_module_version": "1.5.0",
            "_model_name": "HTMLModel",
            "_view_count": null,
            "_view_module": "@jupyter-widgets/controls",
            "_view_module_version": "1.5.0",
            "_view_name": "HTMLView",
            "description": "",
            "description_tooltip": null,
            "layout": "IPY_MODEL_acf599ab61f2456c99352b27d248a3f1",
            "placeholder": "​",
            "style": "IPY_MODEL_cc795e8e862242f19a92fce925c4e01e",
            "value": " 1.04M/1.04M [00:00&lt;00:00, 16.3MB/s]"
          }
        },
        "39c696c297bd436db123ba1760106606": {
          "model_module": "@jupyter-widgets/base",
          "model_name": "LayoutModel",
          "model_module_version": "1.2.0",
          "state": {
            "_model_module": "@jupyter-widgets/base",
            "_model_module_version": "1.2.0",
            "_model_name": "LayoutModel",
            "_view_count": null,
            "_view_module": "@jupyter-widgets/base",
            "_view_module_version": "1.2.0",
            "_view_name": "LayoutView",
            "align_content": null,
            "align_items": null,
            "align_self": null,
            "border": null,
            "bottom": null,
            "display": null,
            "flex": null,
            "flex_flow": null,
            "grid_area": null,
            "grid_auto_columns": null,
            "grid_auto_flow": null,
            "grid_auto_rows": null,
            "grid_column": null,
            "grid_gap": null,
            "grid_row": null,
            "grid_template_areas": null,
            "grid_template_columns": null,
            "grid_template_rows": null,
            "height": null,
            "justify_content": null,
            "justify_items": null,
            "left": null,
            "margin": null,
            "max_height": null,
            "max_width": null,
            "min_height": null,
            "min_width": null,
            "object_fit": null,
            "object_position": null,
            "order": null,
            "overflow": null,
            "overflow_x": null,
            "overflow_y": null,
            "padding": null,
            "right": null,
            "top": null,
            "visibility": null,
            "width": null
          }
        },
        "0a89dcbe852a4f52b711cc0606fe3296": {
          "model_module": "@jupyter-widgets/base",
          "model_name": "LayoutModel",
          "model_module_version": "1.2.0",
          "state": {
            "_model_module": "@jupyter-widgets/base",
            "_model_module_version": "1.2.0",
            "_model_name": "LayoutModel",
            "_view_count": null,
            "_view_module": "@jupyter-widgets/base",
            "_view_module_version": "1.2.0",
            "_view_name": "LayoutView",
            "align_content": null,
            "align_items": null,
            "align_self": null,
            "border": null,
            "bottom": null,
            "display": null,
            "flex": null,
            "flex_flow": null,
            "grid_area": null,
            "grid_auto_columns": null,
            "grid_auto_flow": null,
            "grid_auto_rows": null,
            "grid_column": null,
            "grid_gap": null,
            "grid_row": null,
            "grid_template_areas": null,
            "grid_template_columns": null,
            "grid_template_rows": null,
            "height": null,
            "justify_content": null,
            "justify_items": null,
            "left": null,
            "margin": null,
            "max_height": null,
            "max_width": null,
            "min_height": null,
            "min_width": null,
            "object_fit": null,
            "object_position": null,
            "order": null,
            "overflow": null,
            "overflow_x": null,
            "overflow_y": null,
            "padding": null,
            "right": null,
            "top": null,
            "visibility": null,
            "width": null
          }
        },
        "858a3b2c547b432c8fbcd4e4eddf5710": {
          "model_module": "@jupyter-widgets/controls",
          "model_name": "DescriptionStyleModel",
          "model_module_version": "1.5.0",
          "state": {
            "_model_module": "@jupyter-widgets/controls",
            "_model_module_version": "1.5.0",
            "_model_name": "DescriptionStyleModel",
            "_view_count": null,
            "_view_module": "@jupyter-widgets/base",
            "_view_module_version": "1.2.0",
            "_view_name": "StyleView",
            "description_width": ""
          }
        },
        "492f652d4f4b4504991e60c8054edb0b": {
          "model_module": "@jupyter-widgets/base",
          "model_name": "LayoutModel",
          "model_module_version": "1.2.0",
          "state": {
            "_model_module": "@jupyter-widgets/base",
            "_model_module_version": "1.2.0",
            "_model_name": "LayoutModel",
            "_view_count": null,
            "_view_module": "@jupyter-widgets/base",
            "_view_module_version": "1.2.0",
            "_view_name": "LayoutView",
            "align_content": null,
            "align_items": null,
            "align_self": null,
            "border": null,
            "bottom": null,
            "display": null,
            "flex": null,
            "flex_flow": null,
            "grid_area": null,
            "grid_auto_columns": null,
            "grid_auto_flow": null,
            "grid_auto_rows": null,
            "grid_column": null,
            "grid_gap": null,
            "grid_row": null,
            "grid_template_areas": null,
            "grid_template_columns": null,
            "grid_template_rows": null,
            "height": null,
            "justify_content": null,
            "justify_items": null,
            "left": null,
            "margin": null,
            "max_height": null,
            "max_width": null,
            "min_height": null,
            "min_width": null,
            "object_fit": null,
            "object_position": null,
            "order": null,
            "overflow": null,
            "overflow_x": null,
            "overflow_y": null,
            "padding": null,
            "right": null,
            "top": null,
            "visibility": null,
            "width": null
          }
        },
        "6a04fd2e663a4ae097808603bb6ea1d5": {
          "model_module": "@jupyter-widgets/controls",
          "model_name": "ProgressStyleModel",
          "model_module_version": "1.5.0",
          "state": {
            "_model_module": "@jupyter-widgets/controls",
            "_model_module_version": "1.5.0",
            "_model_name": "ProgressStyleModel",
            "_view_count": null,
            "_view_module": "@jupyter-widgets/base",
            "_view_module_version": "1.2.0",
            "_view_name": "StyleView",
            "bar_color": null,
            "description_width": ""
          }
        },
        "acf599ab61f2456c99352b27d248a3f1": {
          "model_module": "@jupyter-widgets/base",
          "model_name": "LayoutModel",
          "model_module_version": "1.2.0",
          "state": {
            "_model_module": "@jupyter-widgets/base",
            "_model_module_version": "1.2.0",
            "_model_name": "LayoutModel",
            "_view_count": null,
            "_view_module": "@jupyter-widgets/base",
            "_view_module_version": "1.2.0",
            "_view_name": "LayoutView",
            "align_content": null,
            "align_items": null,
            "align_self": null,
            "border": null,
            "bottom": null,
            "display": null,
            "flex": null,
            "flex_flow": null,
            "grid_area": null,
            "grid_auto_columns": null,
            "grid_auto_flow": null,
            "grid_auto_rows": null,
            "grid_column": null,
            "grid_gap": null,
            "grid_row": null,
            "grid_template_areas": null,
            "grid_template_columns": null,
            "grid_template_rows": null,
            "height": null,
            "justify_content": null,
            "justify_items": null,
            "left": null,
            "margin": null,
            "max_height": null,
            "max_width": null,
            "min_height": null,
            "min_width": null,
            "object_fit": null,
            "object_position": null,
            "order": null,
            "overflow": null,
            "overflow_x": null,
            "overflow_y": null,
            "padding": null,
            "right": null,
            "top": null,
            "visibility": null,
            "width": null
          }
        },
        "cc795e8e862242f19a92fce925c4e01e": {
          "model_module": "@jupyter-widgets/controls",
          "model_name": "DescriptionStyleModel",
          "model_module_version": "1.5.0",
          "state": {
            "_model_module": "@jupyter-widgets/controls",
            "_model_module_version": "1.5.0",
            "_model_name": "DescriptionStyleModel",
            "_view_count": null,
            "_view_module": "@jupyter-widgets/base",
            "_view_module_version": "1.2.0",
            "_view_name": "StyleView",
            "description_width": ""
          }
        },
        "500cce63ad194e5f829e419b1739d77c": {
          "model_module": "@jupyter-widgets/controls",
          "model_name": "HBoxModel",
          "model_module_version": "1.5.0",
          "state": {
            "_dom_classes": [],
            "_model_module": "@jupyter-widgets/controls",
            "_model_module_version": "1.5.0",
            "_model_name": "HBoxModel",
            "_view_count": null,
            "_view_module": "@jupyter-widgets/controls",
            "_view_module_version": "1.5.0",
            "_view_name": "HBoxView",
            "box_style": "",
            "children": [
              "IPY_MODEL_a8514576eaee4f9eb80cafbb9799669f",
              "IPY_MODEL_814e2b2f8fc24a45973ffc3a6dc9d2cb",
              "IPY_MODEL_d52c707bd77b4785812d7e040ede7511"
            ],
            "layout": "IPY_MODEL_087d05f6226d486693990030876dbf2c"
          }
        },
        "a8514576eaee4f9eb80cafbb9799669f": {
          "model_module": "@jupyter-widgets/controls",
          "model_name": "HTMLModel",
          "model_module_version": "1.5.0",
          "state": {
            "_dom_classes": [],
            "_model_module": "@jupyter-widgets/controls",
            "_model_module_version": "1.5.0",
            "_model_name": "HTMLModel",
            "_view_count": null,
            "_view_module": "@jupyter-widgets/controls",
            "_view_module_version": "1.5.0",
            "_view_name": "HTMLView",
            "description": "",
            "description_tooltip": null,
            "layout": "IPY_MODEL_792a52fa765c4cd9964c74593a2ef2cf",
            "placeholder": "​",
            "style": "IPY_MODEL_6a075ff9909c4a999d1ea5c806bf55f0",
            "value": "Downloading (…)olve/main/merges.txt: 100%"
          }
        },
        "814e2b2f8fc24a45973ffc3a6dc9d2cb": {
          "model_module": "@jupyter-widgets/controls",
          "model_name": "FloatProgressModel",
          "model_module_version": "1.5.0",
          "state": {
            "_dom_classes": [],
            "_model_module": "@jupyter-widgets/controls",
            "_model_module_version": "1.5.0",
            "_model_name": "FloatProgressModel",
            "_view_count": null,
            "_view_module": "@jupyter-widgets/controls",
            "_view_module_version": "1.5.0",
            "_view_name": "ProgressView",
            "bar_style": "success",
            "description": "",
            "description_tooltip": null,
            "layout": "IPY_MODEL_4e90b0df76d4404990d5f2a90b5f95f2",
            "max": 456318,
            "min": 0,
            "orientation": "horizontal",
            "style": "IPY_MODEL_0c302ab0931d43988ba12d99fd203e81",
            "value": 456318
          }
        },
        "d52c707bd77b4785812d7e040ede7511": {
          "model_module": "@jupyter-widgets/controls",
          "model_name": "HTMLModel",
          "model_module_version": "1.5.0",
          "state": {
            "_dom_classes": [],
            "_model_module": "@jupyter-widgets/controls",
            "_model_module_version": "1.5.0",
            "_model_name": "HTMLModel",
            "_view_count": null,
            "_view_module": "@jupyter-widgets/controls",
            "_view_module_version": "1.5.0",
            "_view_name": "HTMLView",
            "description": "",
            "description_tooltip": null,
            "layout": "IPY_MODEL_fc032674a23a4a099c8d5a513ee7e475",
            "placeholder": "​",
            "style": "IPY_MODEL_1f2f14d587514ca78231a8327035c5b4",
            "value": " 456k/456k [00:00&lt;00:00, 10.4MB/s]"
          }
        },
        "087d05f6226d486693990030876dbf2c": {
          "model_module": "@jupyter-widgets/base",
          "model_name": "LayoutModel",
          "model_module_version": "1.2.0",
          "state": {
            "_model_module": "@jupyter-widgets/base",
            "_model_module_version": "1.2.0",
            "_model_name": "LayoutModel",
            "_view_count": null,
            "_view_module": "@jupyter-widgets/base",
            "_view_module_version": "1.2.0",
            "_view_name": "LayoutView",
            "align_content": null,
            "align_items": null,
            "align_self": null,
            "border": null,
            "bottom": null,
            "display": null,
            "flex": null,
            "flex_flow": null,
            "grid_area": null,
            "grid_auto_columns": null,
            "grid_auto_flow": null,
            "grid_auto_rows": null,
            "grid_column": null,
            "grid_gap": null,
            "grid_row": null,
            "grid_template_areas": null,
            "grid_template_columns": null,
            "grid_template_rows": null,
            "height": null,
            "justify_content": null,
            "justify_items": null,
            "left": null,
            "margin": null,
            "max_height": null,
            "max_width": null,
            "min_height": null,
            "min_width": null,
            "object_fit": null,
            "object_position": null,
            "order": null,
            "overflow": null,
            "overflow_x": null,
            "overflow_y": null,
            "padding": null,
            "right": null,
            "top": null,
            "visibility": null,
            "width": null
          }
        },
        "792a52fa765c4cd9964c74593a2ef2cf": {
          "model_module": "@jupyter-widgets/base",
          "model_name": "LayoutModel",
          "model_module_version": "1.2.0",
          "state": {
            "_model_module": "@jupyter-widgets/base",
            "_model_module_version": "1.2.0",
            "_model_name": "LayoutModel",
            "_view_count": null,
            "_view_module": "@jupyter-widgets/base",
            "_view_module_version": "1.2.0",
            "_view_name": "LayoutView",
            "align_content": null,
            "align_items": null,
            "align_self": null,
            "border": null,
            "bottom": null,
            "display": null,
            "flex": null,
            "flex_flow": null,
            "grid_area": null,
            "grid_auto_columns": null,
            "grid_auto_flow": null,
            "grid_auto_rows": null,
            "grid_column": null,
            "grid_gap": null,
            "grid_row": null,
            "grid_template_areas": null,
            "grid_template_columns": null,
            "grid_template_rows": null,
            "height": null,
            "justify_content": null,
            "justify_items": null,
            "left": null,
            "margin": null,
            "max_height": null,
            "max_width": null,
            "min_height": null,
            "min_width": null,
            "object_fit": null,
            "object_position": null,
            "order": null,
            "overflow": null,
            "overflow_x": null,
            "overflow_y": null,
            "padding": null,
            "right": null,
            "top": null,
            "visibility": null,
            "width": null
          }
        },
        "6a075ff9909c4a999d1ea5c806bf55f0": {
          "model_module": "@jupyter-widgets/controls",
          "model_name": "DescriptionStyleModel",
          "model_module_version": "1.5.0",
          "state": {
            "_model_module": "@jupyter-widgets/controls",
            "_model_module_version": "1.5.0",
            "_model_name": "DescriptionStyleModel",
            "_view_count": null,
            "_view_module": "@jupyter-widgets/base",
            "_view_module_version": "1.2.0",
            "_view_name": "StyleView",
            "description_width": ""
          }
        },
        "4e90b0df76d4404990d5f2a90b5f95f2": {
          "model_module": "@jupyter-widgets/base",
          "model_name": "LayoutModel",
          "model_module_version": "1.2.0",
          "state": {
            "_model_module": "@jupyter-widgets/base",
            "_model_module_version": "1.2.0",
            "_model_name": "LayoutModel",
            "_view_count": null,
            "_view_module": "@jupyter-widgets/base",
            "_view_module_version": "1.2.0",
            "_view_name": "LayoutView",
            "align_content": null,
            "align_items": null,
            "align_self": null,
            "border": null,
            "bottom": null,
            "display": null,
            "flex": null,
            "flex_flow": null,
            "grid_area": null,
            "grid_auto_columns": null,
            "grid_auto_flow": null,
            "grid_auto_rows": null,
            "grid_column": null,
            "grid_gap": null,
            "grid_row": null,
            "grid_template_areas": null,
            "grid_template_columns": null,
            "grid_template_rows": null,
            "height": null,
            "justify_content": null,
            "justify_items": null,
            "left": null,
            "margin": null,
            "max_height": null,
            "max_width": null,
            "min_height": null,
            "min_width": null,
            "object_fit": null,
            "object_position": null,
            "order": null,
            "overflow": null,
            "overflow_x": null,
            "overflow_y": null,
            "padding": null,
            "right": null,
            "top": null,
            "visibility": null,
            "width": null
          }
        },
        "0c302ab0931d43988ba12d99fd203e81": {
          "model_module": "@jupyter-widgets/controls",
          "model_name": "ProgressStyleModel",
          "model_module_version": "1.5.0",
          "state": {
            "_model_module": "@jupyter-widgets/controls",
            "_model_module_version": "1.5.0",
            "_model_name": "ProgressStyleModel",
            "_view_count": null,
            "_view_module": "@jupyter-widgets/base",
            "_view_module_version": "1.2.0",
            "_view_name": "StyleView",
            "bar_color": null,
            "description_width": ""
          }
        },
        "fc032674a23a4a099c8d5a513ee7e475": {
          "model_module": "@jupyter-widgets/base",
          "model_name": "LayoutModel",
          "model_module_version": "1.2.0",
          "state": {
            "_model_module": "@jupyter-widgets/base",
            "_model_module_version": "1.2.0",
            "_model_name": "LayoutModel",
            "_view_count": null,
            "_view_module": "@jupyter-widgets/base",
            "_view_module_version": "1.2.0",
            "_view_name": "LayoutView",
            "align_content": null,
            "align_items": null,
            "align_self": null,
            "border": null,
            "bottom": null,
            "display": null,
            "flex": null,
            "flex_flow": null,
            "grid_area": null,
            "grid_auto_columns": null,
            "grid_auto_flow": null,
            "grid_auto_rows": null,
            "grid_column": null,
            "grid_gap": null,
            "grid_row": null,
            "grid_template_areas": null,
            "grid_template_columns": null,
            "grid_template_rows": null,
            "height": null,
            "justify_content": null,
            "justify_items": null,
            "left": null,
            "margin": null,
            "max_height": null,
            "max_width": null,
            "min_height": null,
            "min_width": null,
            "object_fit": null,
            "object_position": null,
            "order": null,
            "overflow": null,
            "overflow_x": null,
            "overflow_y": null,
            "padding": null,
            "right": null,
            "top": null,
            "visibility": null,
            "width": null
          }
        },
        "1f2f14d587514ca78231a8327035c5b4": {
          "model_module": "@jupyter-widgets/controls",
          "model_name": "DescriptionStyleModel",
          "model_module_version": "1.5.0",
          "state": {
            "_model_module": "@jupyter-widgets/controls",
            "_model_module_version": "1.5.0",
            "_model_name": "DescriptionStyleModel",
            "_view_count": null,
            "_view_module": "@jupyter-widgets/base",
            "_view_module_version": "1.2.0",
            "_view_name": "StyleView",
            "description_width": ""
          }
        },
        "903d3af251b748ad92b9d4cb0cad27d2": {
          "model_module": "@jupyter-widgets/controls",
          "model_name": "HBoxModel",
          "model_module_version": "1.5.0",
          "state": {
            "_dom_classes": [],
            "_model_module": "@jupyter-widgets/controls",
            "_model_module_version": "1.5.0",
            "_model_name": "HBoxModel",
            "_view_count": null,
            "_view_module": "@jupyter-widgets/controls",
            "_view_module_version": "1.5.0",
            "_view_name": "HBoxView",
            "box_style": "",
            "children": [
              "IPY_MODEL_9ec9ff5100364f38b1ce74fe27eee2ca",
              "IPY_MODEL_bbed947b18b5457f98160fb17712e95c",
              "IPY_MODEL_cbb4afc7620f4d30b72612149b91f5c1"
            ],
            "layout": "IPY_MODEL_40b3d4a0869e4e3f8abcdd6974c70bd6"
          }
        },
        "9ec9ff5100364f38b1ce74fe27eee2ca": {
          "model_module": "@jupyter-widgets/controls",
          "model_name": "HTMLModel",
          "model_module_version": "1.5.0",
          "state": {
            "_dom_classes": [],
            "_model_module": "@jupyter-widgets/controls",
            "_model_module_version": "1.5.0",
            "_model_name": "HTMLModel",
            "_view_count": null,
            "_view_module": "@jupyter-widgets/controls",
            "_view_module_version": "1.5.0",
            "_view_name": "HTMLView",
            "description": "",
            "description_tooltip": null,
            "layout": "IPY_MODEL_b5dcd7823a8d4c3d881557bbe8df128b",
            "placeholder": "​",
            "style": "IPY_MODEL_124f74c16d734fa19a1c1d09f4ef6522",
            "value": "Downloading (…)/main/tokenizer.json: 100%"
          }
        },
        "bbed947b18b5457f98160fb17712e95c": {
          "model_module": "@jupyter-widgets/controls",
          "model_name": "FloatProgressModel",
          "model_module_version": "1.5.0",
          "state": {
            "_dom_classes": [],
            "_model_module": "@jupyter-widgets/controls",
            "_model_module_version": "1.5.0",
            "_model_name": "FloatProgressModel",
            "_view_count": null,
            "_view_module": "@jupyter-widgets/controls",
            "_view_module_version": "1.5.0",
            "_view_name": "ProgressView",
            "bar_style": "success",
            "description": "",
            "description_tooltip": null,
            "layout": "IPY_MODEL_672e064b5a2744cda69b4b5d3805fe63",
            "max": 1355256,
            "min": 0,
            "orientation": "horizontal",
            "style": "IPY_MODEL_82e2d3d334c14e7cb1f18a1f8d2c260f",
            "value": 1355256
          }
        },
        "cbb4afc7620f4d30b72612149b91f5c1": {
          "model_module": "@jupyter-widgets/controls",
          "model_name": "HTMLModel",
          "model_module_version": "1.5.0",
          "state": {
            "_dom_classes": [],
            "_model_module": "@jupyter-widgets/controls",
            "_model_module_version": "1.5.0",
            "_model_name": "HTMLModel",
            "_view_count": null,
            "_view_module": "@jupyter-widgets/controls",
            "_view_module_version": "1.5.0",
            "_view_name": "HTMLView",
            "description": "",
            "description_tooltip": null,
            "layout": "IPY_MODEL_e8ed0bd4596d4a9cb33e5985d995c8fb",
            "placeholder": "​",
            "style": "IPY_MODEL_aa1e2850aad243bd830df9fb8c46bc64",
            "value": " 1.36M/1.36M [00:00&lt;00:00, 34.4MB/s]"
          }
        },
        "40b3d4a0869e4e3f8abcdd6974c70bd6": {
          "model_module": "@jupyter-widgets/base",
          "model_name": "LayoutModel",
          "model_module_version": "1.2.0",
          "state": {
            "_model_module": "@jupyter-widgets/base",
            "_model_module_version": "1.2.0",
            "_model_name": "LayoutModel",
            "_view_count": null,
            "_view_module": "@jupyter-widgets/base",
            "_view_module_version": "1.2.0",
            "_view_name": "LayoutView",
            "align_content": null,
            "align_items": null,
            "align_self": null,
            "border": null,
            "bottom": null,
            "display": null,
            "flex": null,
            "flex_flow": null,
            "grid_area": null,
            "grid_auto_columns": null,
            "grid_auto_flow": null,
            "grid_auto_rows": null,
            "grid_column": null,
            "grid_gap": null,
            "grid_row": null,
            "grid_template_areas": null,
            "grid_template_columns": null,
            "grid_template_rows": null,
            "height": null,
            "justify_content": null,
            "justify_items": null,
            "left": null,
            "margin": null,
            "max_height": null,
            "max_width": null,
            "min_height": null,
            "min_width": null,
            "object_fit": null,
            "object_position": null,
            "order": null,
            "overflow": null,
            "overflow_x": null,
            "overflow_y": null,
            "padding": null,
            "right": null,
            "top": null,
            "visibility": null,
            "width": null
          }
        },
        "b5dcd7823a8d4c3d881557bbe8df128b": {
          "model_module": "@jupyter-widgets/base",
          "model_name": "LayoutModel",
          "model_module_version": "1.2.0",
          "state": {
            "_model_module": "@jupyter-widgets/base",
            "_model_module_version": "1.2.0",
            "_model_name": "LayoutModel",
            "_view_count": null,
            "_view_module": "@jupyter-widgets/base",
            "_view_module_version": "1.2.0",
            "_view_name": "LayoutView",
            "align_content": null,
            "align_items": null,
            "align_self": null,
            "border": null,
            "bottom": null,
            "display": null,
            "flex": null,
            "flex_flow": null,
            "grid_area": null,
            "grid_auto_columns": null,
            "grid_auto_flow": null,
            "grid_auto_rows": null,
            "grid_column": null,
            "grid_gap": null,
            "grid_row": null,
            "grid_template_areas": null,
            "grid_template_columns": null,
            "grid_template_rows": null,
            "height": null,
            "justify_content": null,
            "justify_items": null,
            "left": null,
            "margin": null,
            "max_height": null,
            "max_width": null,
            "min_height": null,
            "min_width": null,
            "object_fit": null,
            "object_position": null,
            "order": null,
            "overflow": null,
            "overflow_x": null,
            "overflow_y": null,
            "padding": null,
            "right": null,
            "top": null,
            "visibility": null,
            "width": null
          }
        },
        "124f74c16d734fa19a1c1d09f4ef6522": {
          "model_module": "@jupyter-widgets/controls",
          "model_name": "DescriptionStyleModel",
          "model_module_version": "1.5.0",
          "state": {
            "_model_module": "@jupyter-widgets/controls",
            "_model_module_version": "1.5.0",
            "_model_name": "DescriptionStyleModel",
            "_view_count": null,
            "_view_module": "@jupyter-widgets/base",
            "_view_module_version": "1.2.0",
            "_view_name": "StyleView",
            "description_width": ""
          }
        },
        "672e064b5a2744cda69b4b5d3805fe63": {
          "model_module": "@jupyter-widgets/base",
          "model_name": "LayoutModel",
          "model_module_version": "1.2.0",
          "state": {
            "_model_module": "@jupyter-widgets/base",
            "_model_module_version": "1.2.0",
            "_model_name": "LayoutModel",
            "_view_count": null,
            "_view_module": "@jupyter-widgets/base",
            "_view_module_version": "1.2.0",
            "_view_name": "LayoutView",
            "align_content": null,
            "align_items": null,
            "align_self": null,
            "border": null,
            "bottom": null,
            "display": null,
            "flex": null,
            "flex_flow": null,
            "grid_area": null,
            "grid_auto_columns": null,
            "grid_auto_flow": null,
            "grid_auto_rows": null,
            "grid_column": null,
            "grid_gap": null,
            "grid_row": null,
            "grid_template_areas": null,
            "grid_template_columns": null,
            "grid_template_rows": null,
            "height": null,
            "justify_content": null,
            "justify_items": null,
            "left": null,
            "margin": null,
            "max_height": null,
            "max_width": null,
            "min_height": null,
            "min_width": null,
            "object_fit": null,
            "object_position": null,
            "order": null,
            "overflow": null,
            "overflow_x": null,
            "overflow_y": null,
            "padding": null,
            "right": null,
            "top": null,
            "visibility": null,
            "width": null
          }
        },
        "82e2d3d334c14e7cb1f18a1f8d2c260f": {
          "model_module": "@jupyter-widgets/controls",
          "model_name": "ProgressStyleModel",
          "model_module_version": "1.5.0",
          "state": {
            "_model_module": "@jupyter-widgets/controls",
            "_model_module_version": "1.5.0",
            "_model_name": "ProgressStyleModel",
            "_view_count": null,
            "_view_module": "@jupyter-widgets/base",
            "_view_module_version": "1.2.0",
            "_view_name": "StyleView",
            "bar_color": null,
            "description_width": ""
          }
        },
        "e8ed0bd4596d4a9cb33e5985d995c8fb": {
          "model_module": "@jupyter-widgets/base",
          "model_name": "LayoutModel",
          "model_module_version": "1.2.0",
          "state": {
            "_model_module": "@jupyter-widgets/base",
            "_model_module_version": "1.2.0",
            "_model_name": "LayoutModel",
            "_view_count": null,
            "_view_module": "@jupyter-widgets/base",
            "_view_module_version": "1.2.0",
            "_view_name": "LayoutView",
            "align_content": null,
            "align_items": null,
            "align_self": null,
            "border": null,
            "bottom": null,
            "display": null,
            "flex": null,
            "flex_flow": null,
            "grid_area": null,
            "grid_auto_columns": null,
            "grid_auto_flow": null,
            "grid_auto_rows": null,
            "grid_column": null,
            "grid_gap": null,
            "grid_row": null,
            "grid_template_areas": null,
            "grid_template_columns": null,
            "grid_template_rows": null,
            "height": null,
            "justify_content": null,
            "justify_items": null,
            "left": null,
            "margin": null,
            "max_height": null,
            "max_width": null,
            "min_height": null,
            "min_width": null,
            "object_fit": null,
            "object_position": null,
            "order": null,
            "overflow": null,
            "overflow_x": null,
            "overflow_y": null,
            "padding": null,
            "right": null,
            "top": null,
            "visibility": null,
            "width": null
          }
        },
        "aa1e2850aad243bd830df9fb8c46bc64": {
          "model_module": "@jupyter-widgets/controls",
          "model_name": "DescriptionStyleModel",
          "model_module_version": "1.5.0",
          "state": {
            "_model_module": "@jupyter-widgets/controls",
            "_model_module_version": "1.5.0",
            "_model_name": "DescriptionStyleModel",
            "_view_count": null,
            "_view_module": "@jupyter-widgets/base",
            "_view_module_version": "1.2.0",
            "_view_name": "StyleView",
            "description_width": ""
          }
        }
      }
    }
  },
  "cells": [
    {
      "cell_type": "code",
      "execution_count": null,
      "metadata": {
        "colab": {
          "base_uri": "https://localhost:8080/"
        },
        "id": "ldTPf9fMdwQU",
        "outputId": "d3e5272d-1689-49aa-e851-d2babdb8501b"
      },
      "outputs": [
        {
          "output_type": "stream",
          "name": "stdout",
          "text": [
            "Looking in indexes: https://pypi.org/simple, https://us-python.pkg.dev/colab-wheels/public/simple/\n",
            "Collecting transformers\n",
            "  Downloading transformers-4.28.1-py3-none-any.whl (7.0 MB)\n",
            "\u001b[2K     \u001b[90m━━━━━━━━━━━━━━━━━━━━━━━━━━━━━━━━━━━━━━━━\u001b[0m \u001b[32m7.0/7.0 MB\u001b[0m \u001b[31m46.7 MB/s\u001b[0m eta \u001b[36m0:00:00\u001b[0m\n",
            "\u001b[?25hRequirement already satisfied: packaging>=20.0 in /usr/local/lib/python3.10/dist-packages (from transformers) (23.1)\n",
            "Requirement already satisfied: tqdm>=4.27 in /usr/local/lib/python3.10/dist-packages (from transformers) (4.65.0)\n",
            "Requirement already satisfied: requests in /usr/local/lib/python3.10/dist-packages (from transformers) (2.27.1)\n",
            "Requirement already satisfied: numpy>=1.17 in /usr/local/lib/python3.10/dist-packages (from transformers) (1.22.4)\n",
            "Requirement already satisfied: pyyaml>=5.1 in /usr/local/lib/python3.10/dist-packages (from transformers) (6.0)\n",
            "Collecting tokenizers!=0.11.3,<0.14,>=0.11.1\n",
            "  Downloading tokenizers-0.13.3-cp310-cp310-manylinux_2_17_x86_64.manylinux2014_x86_64.whl (7.8 MB)\n",
            "\u001b[2K     \u001b[90m━━━━━━━━━━━━━━━━━━━━━━━━━━━━━━━━━━━━━━━━\u001b[0m \u001b[32m7.8/7.8 MB\u001b[0m \u001b[31m43.8 MB/s\u001b[0m eta \u001b[36m0:00:00\u001b[0m\n",
            "\u001b[?25hRequirement already satisfied: regex!=2019.12.17 in /usr/local/lib/python3.10/dist-packages (from transformers) (2022.10.31)\n",
            "Requirement already satisfied: filelock in /usr/local/lib/python3.10/dist-packages (from transformers) (3.12.0)\n",
            "Collecting huggingface-hub<1.0,>=0.11.0\n",
            "  Downloading huggingface_hub-0.14.1-py3-none-any.whl (224 kB)\n",
            "\u001b[2K     \u001b[90m━━━━━━━━━━━━━━━━━━━━━━━━━━━━━━━━━━━━━━\u001b[0m \u001b[32m224.5/224.5 kB\u001b[0m \u001b[31m11.7 MB/s\u001b[0m eta \u001b[36m0:00:00\u001b[0m\n",
            "\u001b[?25hRequirement already satisfied: typing-extensions>=3.7.4.3 in /usr/local/lib/python3.10/dist-packages (from huggingface-hub<1.0,>=0.11.0->transformers) (4.5.0)\n",
            "Requirement already satisfied: fsspec in /usr/local/lib/python3.10/dist-packages (from huggingface-hub<1.0,>=0.11.0->transformers) (2023.4.0)\n",
            "Requirement already satisfied: charset-normalizer~=2.0.0 in /usr/local/lib/python3.10/dist-packages (from requests->transformers) (2.0.12)\n",
            "Requirement already satisfied: certifi>=2017.4.17 in /usr/local/lib/python3.10/dist-packages (from requests->transformers) (2022.12.7)\n",
            "Requirement already satisfied: idna<4,>=2.5 in /usr/local/lib/python3.10/dist-packages (from requests->transformers) (3.4)\n",
            "Requirement already satisfied: urllib3<1.27,>=1.21.1 in /usr/local/lib/python3.10/dist-packages (from requests->transformers) (1.26.15)\n",
            "Installing collected packages: tokenizers, huggingface-hub, transformers\n",
            "Successfully installed huggingface-hub-0.14.1 tokenizers-0.13.3 transformers-4.28.1\n"
          ]
        }
      ],
      "source": [
        "!pip install transformers"
      ]
    },
    {
      "cell_type": "markdown",
      "source": [
        "## 1. Text generation example"
      ],
      "metadata": {
        "id": "wgZkM2XGLql6"
      }
    },
    {
      "cell_type": "code",
      "source": [
        "from transformers import pipeline"
      ],
      "metadata": {
        "id": "HgMN_9jqd7dh"
      },
      "execution_count": null,
      "outputs": []
    },
    {
      "cell_type": "code",
      "source": [
        "text_generation = pipeline(\"text-generation\")"
      ],
      "metadata": {
        "id": "-QrjO-oYd7vl",
        "colab": {
          "base_uri": "https://localhost:8080/",
          "height": 244,
          "referenced_widgets": [
            "8dc2adb2039c405ea5470313b952f281",
            "39c8bbccd1c74bc1a26e3ebe431b46f3",
            "4c14739c913949b089751069167b9090",
            "e64beba71bff415eac06566441714e74",
            "66e960d4f64b4ed99aa63f772df7925f",
            "e6a6fb2cc9b34f85a8259a6774e66a71",
            "39161cd2eae84280ac1546d5b4dedd03",
            "3d2b5e5f55274cc9be3d620cb54e9fd1",
            "bfa1a2ed28e140bb8b4163445f4cd758",
            "1865f8d7e0c54d94a365b6bf356271a5",
            "31966c3121b84187951b91694d7c2117",
            "6ed86f6ee0164a709e7e91bb3cf667f8",
            "c36de7651d5e417a965e45b64121c2fa",
            "88370957953e456f93fa9ada733cd98a",
            "a4e7d6d2a75b4f5d966449bebc354bee",
            "35ccb619bcb842af8a89efa07411d89d",
            "d605b463e2d749cda863bca66b4123b3",
            "a647bfe0850a4411b6916b3047fdda57",
            "6332d9274a714ebab4e9fdfb20a42210",
            "e11b42b8c3c949af944f8af4457f06e6",
            "d00368964bb8470c8fd8fb9970b327a8",
            "9c4dcaf467224fbd832bdfe9d58cc8dc",
            "6dfb06bf43254e8e94acbeec36f53a02",
            "8dd362160804475a8808b744fa66f0c5",
            "822d2dd28b2a4d8a93b3f3a46fcd1ece",
            "26e33c86166348299df57651c554aaf3",
            "df9619a3437e4fa0b42ce5537c8a48a3",
            "ac8a2a901ad94335bd3e0aa236ed6ab8",
            "97cd64239c6942b3af4ef509fadf2f43",
            "ad9cec92e29b46b6836725a86c777282",
            "dfa4e371bb9b438baabbc3f797c7fc8d",
            "632657a9196b448f9daa1a662b2edc94",
            "3aac30ceb0ad4e2ca724129859f1dd41",
            "f80e1c0d62f34972bb9179b9c7ef8148",
            "443f878513a7405f9017756919781f53",
            "aca1b60d08d545bfac13e465aa349924",
            "85d53c9fe32a4a14b75be12a63d2fd8f",
            "39c696c297bd436db123ba1760106606",
            "0a89dcbe852a4f52b711cc0606fe3296",
            "858a3b2c547b432c8fbcd4e4eddf5710",
            "492f652d4f4b4504991e60c8054edb0b",
            "6a04fd2e663a4ae097808603bb6ea1d5",
            "acf599ab61f2456c99352b27d248a3f1",
            "cc795e8e862242f19a92fce925c4e01e",
            "500cce63ad194e5f829e419b1739d77c",
            "a8514576eaee4f9eb80cafbb9799669f",
            "814e2b2f8fc24a45973ffc3a6dc9d2cb",
            "d52c707bd77b4785812d7e040ede7511",
            "087d05f6226d486693990030876dbf2c",
            "792a52fa765c4cd9964c74593a2ef2cf",
            "6a075ff9909c4a999d1ea5c806bf55f0",
            "4e90b0df76d4404990d5f2a90b5f95f2",
            "0c302ab0931d43988ba12d99fd203e81",
            "fc032674a23a4a099c8d5a513ee7e475",
            "1f2f14d587514ca78231a8327035c5b4",
            "903d3af251b748ad92b9d4cb0cad27d2",
            "9ec9ff5100364f38b1ce74fe27eee2ca",
            "bbed947b18b5457f98160fb17712e95c",
            "cbb4afc7620f4d30b72612149b91f5c1",
            "40b3d4a0869e4e3f8abcdd6974c70bd6",
            "b5dcd7823a8d4c3d881557bbe8df128b",
            "124f74c16d734fa19a1c1d09f4ef6522",
            "672e064b5a2744cda69b4b5d3805fe63",
            "82e2d3d334c14e7cb1f18a1f8d2c260f",
            "e8ed0bd4596d4a9cb33e5985d995c8fb",
            "aa1e2850aad243bd830df9fb8c46bc64"
          ]
        },
        "outputId": "ce56c1da-feee-47a1-a417-ee76b154b22f"
      },
      "execution_count": null,
      "outputs": [
        {
          "output_type": "stream",
          "name": "stderr",
          "text": [
            "No model was supplied, defaulted to gpt2 and revision 6c0e608 (https://huggingface.co/gpt2).\n",
            "Using a pipeline without specifying a model name and revision in production is not recommended.\n"
          ]
        },
        {
          "output_type": "display_data",
          "data": {
            "text/plain": [
              "Downloading (…)lve/main/config.json:   0%|          | 0.00/665 [00:00<?, ?B/s]"
            ],
            "application/vnd.jupyter.widget-view+json": {
              "version_major": 2,
              "version_minor": 0,
              "model_id": "8dc2adb2039c405ea5470313b952f281"
            }
          },
          "metadata": {}
        },
        {
          "output_type": "display_data",
          "data": {
            "text/plain": [
              "Downloading pytorch_model.bin:   0%|          | 0.00/548M [00:00<?, ?B/s]"
            ],
            "application/vnd.jupyter.widget-view+json": {
              "version_major": 2,
              "version_minor": 0,
              "model_id": "6ed86f6ee0164a709e7e91bb3cf667f8"
            }
          },
          "metadata": {}
        },
        {
          "output_type": "display_data",
          "data": {
            "text/plain": [
              "Downloading (…)neration_config.json:   0%|          | 0.00/124 [00:00<?, ?B/s]"
            ],
            "application/vnd.jupyter.widget-view+json": {
              "version_major": 2,
              "version_minor": 0,
              "model_id": "6dfb06bf43254e8e94acbeec36f53a02"
            }
          },
          "metadata": {}
        },
        {
          "output_type": "display_data",
          "data": {
            "text/plain": [
              "Downloading (…)olve/main/vocab.json:   0%|          | 0.00/1.04M [00:00<?, ?B/s]"
            ],
            "application/vnd.jupyter.widget-view+json": {
              "version_major": 2,
              "version_minor": 0,
              "model_id": "f80e1c0d62f34972bb9179b9c7ef8148"
            }
          },
          "metadata": {}
        },
        {
          "output_type": "display_data",
          "data": {
            "text/plain": [
              "Downloading (…)olve/main/merges.txt:   0%|          | 0.00/456k [00:00<?, ?B/s]"
            ],
            "application/vnd.jupyter.widget-view+json": {
              "version_major": 2,
              "version_minor": 0,
              "model_id": "500cce63ad194e5f829e419b1739d77c"
            }
          },
          "metadata": {}
        },
        {
          "output_type": "display_data",
          "data": {
            "text/plain": [
              "Downloading (…)/main/tokenizer.json:   0%|          | 0.00/1.36M [00:00<?, ?B/s]"
            ],
            "application/vnd.jupyter.widget-view+json": {
              "version_major": 2,
              "version_minor": 0,
              "model_id": "903d3af251b748ad92b9d4cb0cad27d2"
            }
          },
          "metadata": {}
        }
      ]
    },
    {
      "cell_type": "code",
      "source": [
        "prefix_text = \"The world is\""
      ],
      "metadata": {
        "id": "OkJp7zrYd72l"
      },
      "execution_count": null,
      "outputs": []
    },
    {
      "cell_type": "code",
      "source": [
        "generated_text= text_generation(prefix_text, max_length=50, do_sample=False)[0]\n",
        "print(generated_text['generated_text'])"
      ],
      "metadata": {
        "id": "P5gTZ0Und78s",
        "colab": {
          "base_uri": "https://localhost:8080/"
        },
        "outputId": "261e50a0-2889-4593-f374-71dbccfb8a33"
      },
      "execution_count": null,
      "outputs": [
        {
          "output_type": "stream",
          "name": "stderr",
          "text": [
            "/usr/local/lib/python3.10/dist-packages/transformers/generation/utils.py:1219: UserWarning: You have modified the pretrained model configuration to control generation. This is a deprecated strategy to control generation and will be removed soon, in a future version. Please use a generation configuration file (see https://huggingface.co/docs/transformers/main_classes/text_generation)\n",
            "  warnings.warn(\n",
            "Setting `pad_token_id` to `eos_token_id`:50256 for open-end generation.\n"
          ]
        },
        {
          "output_type": "stream",
          "name": "stdout",
          "text": [
            "The world is a better place if you're a good person.\n",
            "\n",
            "I'm not saying that you should be a bad person. I'm saying that you should be a good person.\n",
            "\n",
            "I'm not saying that you should be a bad\n"
          ]
        }
      ]
    },
    {
      "cell_type": "markdown",
      "source": [
        "## 2. Model extraction"
      ],
      "metadata": {
        "id": "ItJy_-ngLy6u"
      }
    },
    {
      "cell_type": "code",
      "source": [
        "import io\n",
        "import os\n",
        "import torch\n",
        "from tqdm.notebook import tqdm\n",
        "from torch.utils.data import Dataset, DataLoader\n",
        "#from ml_things import plot_dict, plot_confusion_matrix, fix_text\n",
        "from sklearn.metrics import classification_report, accuracy_score\n",
        "from transformers import (set_seed,\n",
        "                          TrainingArguments,\n",
        "                          Trainer,\n",
        "                          GPT2Config,\n",
        "                          GPT2Tokenizer,\n",
        "                          AdamW,\n",
        "                          get_linear_schedule_with_warmup,\n",
        "                          GPT2ForSequenceClassification)\n",
        "\n",
        "# Set seed for reproducibility.\n",
        "set_seed(123)"
      ],
      "metadata": {
        "id": "TmbcKKuJL2Bw"
      },
      "execution_count": null,
      "outputs": []
    },
    {
      "cell_type": "code",
      "source": [
        "device = torch.device('cuda' if torch.cuda.is_available() else 'cpu')\n",
        "\n",
        "# Name of transformers model - will use already pretrained model.\n",
        "# Path of transformer model - will load your own model from local disk.\n",
        "model_name_or_path = 'gpt2'\n",
        "\n",
        "# Dictionary of labels and their id - this will be used to convert.\n",
        "# String labels to number ids.\n",
        "labels_ids = {'neg': 0, 'pos': 1}\n",
        "\n",
        "# How many labels are we using in training.\n",
        "# This is used to decide size of classification head.\n",
        "n_labels = len(labels_ids)"
      ],
      "metadata": {
        "id": "Zj7YB2SkMb1P"
      },
      "execution_count": null,
      "outputs": []
    },
    {
      "cell_type": "code",
      "source": [
        "# Get model configuration.\n",
        "print('Loading configuraiton...')\n",
        "model_config = GPT2Config.from_pretrained(pretrained_model_name_or_path=model_name_or_path, num_labels=n_labels)\n",
        "\n",
        "# Get model's tokenizer.\n",
        "print('Loading tokenizer...')\n",
        "tokenizer = GPT2Tokenizer.from_pretrained(pretrained_model_name_or_path=model_name_or_path)\n",
        "# default to left padding\n",
        "tokenizer.padding_side = \"left\"\n",
        "# Define PAD Token = EOS Token = 50256\n",
        "tokenizer.pad_token = tokenizer.eos_token\n",
        "\n",
        "\n",
        "# Get the actual model.\n",
        "print('Loading model...')\n",
        "model = GPT2ForSequenceClassification.from_pretrained(pretrained_model_name_or_path=model_name_or_path, config=model_config)\n",
        "\n",
        "# resize model embedding to match new tokenizer\n",
        "model.resize_token_embeddings(len(tokenizer))\n",
        "\n",
        "# fix model padding token id\n",
        "model.config.pad_token_id = model.config.eos_token_id\n",
        "\n",
        "# Load model to defined device.\n",
        "model.to(device)\n",
        "print('Model loaded to `%s`'%device)"
      ],
      "metadata": {
        "colab": {
          "base_uri": "https://localhost:8080/"
        },
        "id": "y-f_1IX3L2Zn",
        "outputId": "422fad8e-ac6e-4a9b-f55c-3b9c0c636077"
      },
      "execution_count": null,
      "outputs": [
        {
          "output_type": "stream",
          "name": "stdout",
          "text": [
            "Loading configuraiton...\n",
            "Loading tokenizer...\n",
            "Loading model...\n"
          ]
        },
        {
          "output_type": "stream",
          "name": "stderr",
          "text": [
            "Some weights of GPT2ForSequenceClassification were not initialized from the model checkpoint at gpt2 and are newly initialized: ['score.weight']\n",
            "You should probably TRAIN this model on a down-stream task to be able to use it for predictions and inference.\n"
          ]
        },
        {
          "output_type": "stream",
          "name": "stdout",
          "text": [
            "Model loaded to `cpu`\n"
          ]
        }
      ]
    },
    {
      "cell_type": "code",
      "source": [
        "model_config"
      ],
      "metadata": {
        "colab": {
          "base_uri": "https://localhost:8080/"
        },
        "id": "wJXxoT6EL2d8",
        "outputId": "8b4e3023-5ab2-4caf-d56c-77bd4d824161"
      },
      "execution_count": null,
      "outputs": [
        {
          "output_type": "execute_result",
          "data": {
            "text/plain": [
              "GPT2Config {\n",
              "  \"_name_or_path\": \"gpt2\",\n",
              "  \"activation_function\": \"gelu_new\",\n",
              "  \"architectures\": [\n",
              "    \"GPT2LMHeadModel\"\n",
              "  ],\n",
              "  \"attn_pdrop\": 0.1,\n",
              "  \"bos_token_id\": 50256,\n",
              "  \"embd_pdrop\": 0.1,\n",
              "  \"eos_token_id\": 50256,\n",
              "  \"initializer_range\": 0.02,\n",
              "  \"layer_norm_epsilon\": 1e-05,\n",
              "  \"model_type\": \"gpt2\",\n",
              "  \"n_ctx\": 1024,\n",
              "  \"n_embd\": 768,\n",
              "  \"n_head\": 12,\n",
              "  \"n_inner\": null,\n",
              "  \"n_layer\": 12,\n",
              "  \"n_positions\": 1024,\n",
              "  \"pad_token_id\": 50256,\n",
              "  \"reorder_and_upcast_attn\": false,\n",
              "  \"resid_pdrop\": 0.1,\n",
              "  \"scale_attn_by_inverse_layer_idx\": false,\n",
              "  \"scale_attn_weights\": true,\n",
              "  \"summary_activation\": null,\n",
              "  \"summary_first_dropout\": 0.1,\n",
              "  \"summary_proj_to_labels\": true,\n",
              "  \"summary_type\": \"cls_index\",\n",
              "  \"summary_use_proj\": true,\n",
              "  \"task_specific_params\": {\n",
              "    \"text-generation\": {\n",
              "      \"do_sample\": true,\n",
              "      \"max_length\": 50\n",
              "    }\n",
              "  },\n",
              "  \"transformers_version\": \"4.28.1\",\n",
              "  \"use_cache\": true,\n",
              "  \"vocab_size\": 50257\n",
              "}"
            ]
          },
          "metadata": {},
          "execution_count": 9
        }
      ]
    },
    {
      "cell_type": "code",
      "source": [
        "tokenizer"
      ],
      "metadata": {
        "colab": {
          "base_uri": "https://localhost:8080/"
        },
        "id": "1yjpecdqMwVk",
        "outputId": "0d2b08c1-f2a8-4826-b833-4582c3252d61"
      },
      "execution_count": null,
      "outputs": [
        {
          "output_type": "execute_result",
          "data": {
            "text/plain": [
              "GPT2Tokenizer(name_or_path='gpt2', vocab_size=50257, model_max_length=1024, is_fast=False, padding_side='left', truncation_side='right', special_tokens={'bos_token': AddedToken(\"<|endoftext|>\", rstrip=False, lstrip=False, single_word=False, normalized=True), 'eos_token': AddedToken(\"<|endoftext|>\", rstrip=False, lstrip=False, single_word=False, normalized=True), 'unk_token': AddedToken(\"<|endoftext|>\", rstrip=False, lstrip=False, single_word=False, normalized=True), 'pad_token': '<|endoftext|>'}, clean_up_tokenization_spaces=True)"
            ]
          },
          "metadata": {},
          "execution_count": 10
        }
      ]
    },
    {
      "cell_type": "code",
      "source": [
        "model"
      ],
      "metadata": {
        "colab": {
          "base_uri": "https://localhost:8080/"
        },
        "id": "8TXZ5mu_MxFh",
        "outputId": "acd0cd39-2ad7-46b7-894b-f52670bd62f1"
      },
      "execution_count": null,
      "outputs": [
        {
          "output_type": "execute_result",
          "data": {
            "text/plain": [
              "GPT2ForSequenceClassification(\n",
              "  (transformer): GPT2Model(\n",
              "    (wte): Embedding(50257, 768)\n",
              "    (wpe): Embedding(1024, 768)\n",
              "    (drop): Dropout(p=0.1, inplace=False)\n",
              "    (h): ModuleList(\n",
              "      (0-11): 12 x GPT2Block(\n",
              "        (ln_1): LayerNorm((768,), eps=1e-05, elementwise_affine=True)\n",
              "        (attn): GPT2Attention(\n",
              "          (c_attn): Conv1D()\n",
              "          (c_proj): Conv1D()\n",
              "          (attn_dropout): Dropout(p=0.1, inplace=False)\n",
              "          (resid_dropout): Dropout(p=0.1, inplace=False)\n",
              "        )\n",
              "        (ln_2): LayerNorm((768,), eps=1e-05, elementwise_affine=True)\n",
              "        (mlp): GPT2MLP(\n",
              "          (c_fc): Conv1D()\n",
              "          (c_proj): Conv1D()\n",
              "          (act): NewGELUActivation()\n",
              "          (dropout): Dropout(p=0.1, inplace=False)\n",
              "        )\n",
              "      )\n",
              "    )\n",
              "    (ln_f): LayerNorm((768,), eps=1e-05, elementwise_affine=True)\n",
              "  )\n",
              "  (score): Linear(in_features=768, out_features=2, bias=False)\n",
              ")"
            ]
          },
          "metadata": {},
          "execution_count": 11
        }
      ]
    },
    {
      "cell_type": "markdown",
      "source": [
        "## 3. Features of a given text"
      ],
      "metadata": {
        "id": "vX8JWWekN4Kw"
      }
    },
    {
      "cell_type": "code",
      "source": [
        "from transformers import GPT2Model"
      ],
      "metadata": {
        "id": "ACxG7kc6OWRO"
      },
      "execution_count": null,
      "outputs": []
    },
    {
      "cell_type": "code",
      "source": [
        "# forward pass with only getting the output\n",
        "tokenizer = GPT2Tokenizer.from_pretrained('gpt2')\n",
        "model = GPT2Model.from_pretrained('gpt2')\n",
        "text = \"Replace me by any text you'd like.\"\n",
        "encoded_input = tokenizer(text, return_tensors='pt')\n",
        "output = model(**encoded_input)"
      ],
      "metadata": {
        "id": "UYb6dltYN9Sm"
      },
      "execution_count": null,
      "outputs": []
    },
    {
      "cell_type": "code",
      "source": [
        "tokenizer"
      ],
      "metadata": {
        "colab": {
          "base_uri": "https://localhost:8080/"
        },
        "id": "178CyhU6N9g1",
        "outputId": "01478ee8-9be6-4047-bf71-431d1aa2bd60"
      },
      "execution_count": null,
      "outputs": [
        {
          "output_type": "execute_result",
          "data": {
            "text/plain": [
              "GPT2Tokenizer(name_or_path='gpt2', vocab_size=50257, model_max_length=1024, is_fast=False, padding_side='right', truncation_side='right', special_tokens={'bos_token': AddedToken(\"<|endoftext|>\", rstrip=False, lstrip=False, single_word=False, normalized=True), 'eos_token': AddedToken(\"<|endoftext|>\", rstrip=False, lstrip=False, single_word=False, normalized=True), 'unk_token': AddedToken(\"<|endoftext|>\", rstrip=False, lstrip=False, single_word=False, normalized=True)}, clean_up_tokenization_spaces=True)"
            ]
          },
          "metadata": {},
          "execution_count": 14
        }
      ]
    },
    {
      "cell_type": "code",
      "source": [
        "print('Words in vocabulary: ', tokenizer.vocab_size)"
      ],
      "metadata": {
        "colab": {
          "base_uri": "https://localhost:8080/"
        },
        "id": "8cpSmcyGSxGn",
        "outputId": "43651b13-9095-4130-bace-ace5c4aeae6c"
      },
      "execution_count": null,
      "outputs": [
        {
          "output_type": "stream",
          "name": "stdout",
          "text": [
            "Words in vocabulary:  50257\n"
          ]
        }
      ]
    },
    {
      "cell_type": "code",
      "source": [
        "vocabulary = tokenizer.get_vocab()\n",
        "vocabulary['Hi']"
      ],
      "metadata": {
        "colab": {
          "base_uri": "https://localhost:8080/"
        },
        "id": "d2HnKDMVS7mE",
        "outputId": "0f2c8c24-fcdd-49d2-ed75-7c172fc67d9a"
      },
      "execution_count": null,
      "outputs": [
        {
          "output_type": "execute_result",
          "data": {
            "text/plain": [
              "17250"
            ]
          },
          "metadata": {},
          "execution_count": 16
        }
      ]
    },
    {
      "cell_type": "code",
      "source": [
        "# encode text\n",
        "text_ids = tokenizer.encode(text, return_tensors='pt')\n",
        "text_ids"
      ],
      "metadata": {
        "colab": {
          "base_uri": "https://localhost:8080/"
        },
        "id": "qmyMX2giTUyW",
        "outputId": "d263fc9e-6b57-4794-fedb-8db47825fba7"
      },
      "execution_count": null,
      "outputs": [
        {
          "output_type": "execute_result",
          "data": {
            "text/plain": [
              "tensor([[3041, 5372,  502,  416,  597, 2420,  345, 1549,  588,   13]])"
            ]
          },
          "metadata": {},
          "execution_count": 17
        }
      ]
    },
    {
      "cell_type": "code",
      "source": [
        "tokenizer.tokenize(text)"
      ],
      "metadata": {
        "colab": {
          "base_uri": "https://localhost:8080/"
        },
        "id": "ixuTd14_TeYD",
        "outputId": "4c74f060-94e1-4d72-80ba-ac6698bf3e5d"
      },
      "execution_count": null,
      "outputs": [
        {
          "output_type": "execute_result",
          "data": {
            "text/plain": [
              "['Re', 'place', 'Ġme', 'Ġby', 'Ġany', 'Ġtext', 'Ġyou', \"'d\", 'Ġlike', '.']"
            ]
          },
          "metadata": {},
          "execution_count": 18
        }
      ]
    },
    {
      "cell_type": "code",
      "source": [
        "tokenizer.tokenize(text)[0]"
      ],
      "metadata": {
        "colab": {
          "base_uri": "https://localhost:8080/",
          "height": 35
        },
        "id": "l3GRLl0zg33m",
        "outputId": "87b0c34a-e6e7-4b3b-e131-a2ae638f1c8b"
      },
      "execution_count": null,
      "outputs": [
        {
          "output_type": "execute_result",
          "data": {
            "text/plain": [
              "'Re'"
            ],
            "application/vnd.google.colaboratory.intrinsic+json": {
              "type": "string"
            }
          },
          "metadata": {},
          "execution_count": 19
        }
      ]
    },
    {
      "cell_type": "code",
      "source": [
        "vocabulary[tokenizer.tokenize(text)[0]]"
      ],
      "metadata": {
        "colab": {
          "base_uri": "https://localhost:8080/"
        },
        "id": "X_8fPwjdT2-u",
        "outputId": "4f8936b4-bbb1-4c96-f851-5f9df9f4f579"
      },
      "execution_count": null,
      "outputs": [
        {
          "output_type": "execute_result",
          "data": {
            "text/plain": [
              "3041"
            ]
          },
          "metadata": {},
          "execution_count": 20
        }
      ]
    },
    {
      "cell_type": "code",
      "source": [
        "encoded_input"
      ],
      "metadata": {
        "colab": {
          "base_uri": "https://localhost:8080/"
        },
        "id": "aTOyDiCuN9qA",
        "outputId": "3eb27980-863c-470f-a4fb-516aec25822f"
      },
      "execution_count": null,
      "outputs": [
        {
          "output_type": "execute_result",
          "data": {
            "text/plain": [
              "{'input_ids': tensor([[3041, 5372,  502,  416,  597, 2420,  345, 1549,  588,   13]]), 'attention_mask': tensor([[1, 1, 1, 1, 1, 1, 1, 1, 1, 1]])}"
            ]
          },
          "metadata": {},
          "execution_count": 21
        }
      ]
    },
    {
      "cell_type": "code",
      "source": [
        "output.attentions"
      ],
      "metadata": {
        "id": "r9KvvmaJOuK2"
      },
      "execution_count": null,
      "outputs": []
    },
    {
      "cell_type": "code",
      "source": [
        "output.last_hidden_state.shape"
      ],
      "metadata": {
        "colab": {
          "base_uri": "https://localhost:8080/"
        },
        "id": "8_Ml8iu1Ox2a",
        "outputId": "b5004f26-a894-4691-ec11-8cfcf84755a0"
      },
      "execution_count": null,
      "outputs": [
        {
          "output_type": "execute_result",
          "data": {
            "text/plain": [
              "torch.Size([1, 10, 768])"
            ]
          },
          "metadata": {},
          "execution_count": 23
        }
      ]
    },
    {
      "cell_type": "code",
      "source": [
        "# text generation\n",
        "#text_generation = pipeline(\"text-generation\")\n",
        "#generated_text= text_generation(text, max_length=100, do_sample=False)[0]\n",
        "#print(generated_text['generated_text'])"
      ],
      "metadata": {
        "id": "ujQqmVBfA5wc"
      },
      "execution_count": null,
      "outputs": []
    },
    {
      "cell_type": "code",
      "source": [
        "model.num_parameters"
      ],
      "metadata": {
        "colab": {
          "base_uri": "https://localhost:8080/"
        },
        "id": "SU56NvUYC6Zq",
        "outputId": "902e2579-c628-4b99-e727-2e5dbbdbffe0"
      },
      "execution_count": null,
      "outputs": [
        {
          "output_type": "execute_result",
          "data": {
            "text/plain": [
              "<bound method ModuleUtilsMixin.num_parameters of GPT2Model(\n",
              "  (wte): Embedding(50257, 768)\n",
              "  (wpe): Embedding(1024, 768)\n",
              "  (drop): Dropout(p=0.1, inplace=False)\n",
              "  (h): ModuleList(\n",
              "    (0-11): 12 x GPT2Block(\n",
              "      (ln_1): LayerNorm((768,), eps=1e-05, elementwise_affine=True)\n",
              "      (attn): GPT2Attention(\n",
              "        (c_attn): Conv1D()\n",
              "        (c_proj): Conv1D()\n",
              "        (attn_dropout): Dropout(p=0.1, inplace=False)\n",
              "        (resid_dropout): Dropout(p=0.1, inplace=False)\n",
              "      )\n",
              "      (ln_2): LayerNorm((768,), eps=1e-05, elementwise_affine=True)\n",
              "      (mlp): GPT2MLP(\n",
              "        (c_fc): Conv1D()\n",
              "        (c_proj): Conv1D()\n",
              "        (act): NewGELUActivation()\n",
              "        (dropout): Dropout(p=0.1, inplace=False)\n",
              "      )\n",
              "    )\n",
              "  )\n",
              "  (ln_f): LayerNorm((768,), eps=1e-05, elementwise_affine=True)\n",
              ")>"
            ]
          },
          "metadata": {},
          "execution_count": 25
        }
      ]
    },
    {
      "cell_type": "markdown",
      "source": [
        "## 4. Manually getting the hidden layers"
      ],
      "metadata": {
        "id": "toW3UGc7sVAU"
      }
    },
    {
      "cell_type": "code",
      "source": [
        "def get_module_names(module):\n",
        "    try:\n",
        "        module_names = list(module._module.keys())\n",
        "    except:\n",
        "        module_names = []\n",
        "    return module_names"
      ],
      "metadata": {
        "id": "kPQCjBq06Q1F"
      },
      "execution_count": null,
      "outputs": []
    },
    {
      "cell_type": "code",
      "source": [
        "# forward pass with only getting the output\n",
        "tokenizer = GPT2Tokenizer.from_pretrained('gpt2')\n",
        "model = GPT2Model.from_pretrained('gpt2')\n",
        "text = \"Replace me by any text you'd like.\"\n",
        "encoded_input = tokenizer(text, return_tensors='pt')\n",
        "output = model(**encoded_input)"
      ],
      "metadata": {
        "id": "wfcJBi21sTjW"
      },
      "execution_count": null,
      "outputs": []
    },
    {
      "cell_type": "code",
      "source": [
        "encoded_input"
      ],
      "metadata": {
        "colab": {
          "base_uri": "https://localhost:8080/"
        },
        "id": "A73Oq2Mrr-Tr",
        "outputId": "26b713c7-a09f-42bf-ee97-3be594df16a1"
      },
      "execution_count": null,
      "outputs": [
        {
          "output_type": "execute_result",
          "data": {
            "text/plain": [
              "{'input_ids': tensor([[3041, 5372,  502,  416,  597, 2420,  345, 1549,  588,   13]]), 'attention_mask': tensor([[1, 1, 1, 1, 1, 1, 1, 1, 1, 1]])}"
            ]
          },
          "metadata": {},
          "execution_count": 28
        }
      ]
    },
    {
      "cell_type": "code",
      "source": [
        "model"
      ],
      "metadata": {
        "colab": {
          "base_uri": "https://localhost:8080/"
        },
        "id": "ER6HvN7qmyin",
        "outputId": "2bf7b04e-b4c7-4ab9-f48e-d1d9bb65b9c3"
      },
      "execution_count": null,
      "outputs": [
        {
          "output_type": "execute_result",
          "data": {
            "text/plain": [
              "GPT2Model(\n",
              "  (wte): Embedding(50257, 768)\n",
              "  (wpe): Embedding(1024, 768)\n",
              "  (drop): Dropout(p=0.1, inplace=False)\n",
              "  (h): ModuleList(\n",
              "    (0-11): 12 x GPT2Block(\n",
              "      (ln_1): LayerNorm((768,), eps=1e-05, elementwise_affine=True)\n",
              "      (attn): GPT2Attention(\n",
              "        (c_attn): Conv1D()\n",
              "        (c_proj): Conv1D()\n",
              "        (attn_dropout): Dropout(p=0.1, inplace=False)\n",
              "        (resid_dropout): Dropout(p=0.1, inplace=False)\n",
              "      )\n",
              "      (ln_2): LayerNorm((768,), eps=1e-05, elementwise_affine=True)\n",
              "      (mlp): GPT2MLP(\n",
              "        (c_fc): Conv1D()\n",
              "        (c_proj): Conv1D()\n",
              "        (act): NewGELUActivation()\n",
              "        (dropout): Dropout(p=0.1, inplace=False)\n",
              "      )\n",
              "    )\n",
              "  )\n",
              "  (ln_f): LayerNorm((768,), eps=1e-05, elementwise_affine=True)\n",
              ")"
            ]
          },
          "metadata": {},
          "execution_count": 29
        }
      ]
    },
    {
      "cell_type": "code",
      "source": [
        "# embedding\n",
        "print(type(model.wte))\n",
        "print(model.wte.weight.shape)"
      ],
      "metadata": {
        "colab": {
          "base_uri": "https://localhost:8080/"
        },
        "id": "WLkARKKx2RmL",
        "outputId": "1434e43e-8e39-4d34-e27c-e11508a6598f"
      },
      "execution_count": null,
      "outputs": [
        {
          "output_type": "stream",
          "name": "stdout",
          "text": [
            "<class 'torch.nn.modules.sparse.Embedding'>\n",
            "torch.Size([50257, 768])\n"
          ]
        }
      ]
    },
    {
      "cell_type": "code",
      "source": [],
      "metadata": {
        "id": "4OykE_V12-rO"
      },
      "execution_count": null,
      "outputs": []
    },
    {
      "cell_type": "code",
      "source": [
        "encoded_input"
      ],
      "metadata": {
        "colab": {
          "base_uri": "https://localhost:8080/"
        },
        "id": "i8wMn8ui2aMc",
        "outputId": "fc6856cf-2ac2-4d0d-8f35-57cd0fc1abee"
      },
      "execution_count": null,
      "outputs": [
        {
          "output_type": "execute_result",
          "data": {
            "text/plain": [
              "{'input_ids': tensor([[3041, 5372,  502,  416,  597, 2420,  345, 1549,  588,   13]]), 'attention_mask': tensor([[1, 1, 1, 1, 1, 1, 1, 1, 1, 1]])}"
            ]
          },
          "metadata": {},
          "execution_count": 62
        }
      ]
    },
    {
      "cell_type": "code",
      "source": [
        "# first GPT2 block\n",
        "model.h[0]"
      ],
      "metadata": {
        "colab": {
          "base_uri": "https://localhost:8080/"
        },
        "id": "Eg5YMKAuYrDN",
        "outputId": "477731f3-f93a-49a9-dcd3-a0380ab52248"
      },
      "execution_count": null,
      "outputs": [
        {
          "output_type": "execute_result",
          "data": {
            "text/plain": [
              "GPT2Block(\n",
              "  (ln_1): LayerNorm((768,), eps=1e-05, elementwise_affine=True)\n",
              "  (attn): GPT2Attention(\n",
              "    (c_attn): Conv1D()\n",
              "    (c_proj): Conv1D()\n",
              "    (attn_dropout): Dropout(p=0.1, inplace=False)\n",
              "    (resid_dropout): Dropout(p=0.1, inplace=False)\n",
              "  )\n",
              "  (ln_2): LayerNorm((768,), eps=1e-05, elementwise_affine=True)\n",
              "  (mlp): GPT2MLP(\n",
              "    (c_fc): Conv1D()\n",
              "    (c_proj): Conv1D()\n",
              "    (act): NewGELUActivation()\n",
              "    (dropout): Dropout(p=0.1, inplace=False)\n",
              "  )\n",
              ")"
            ]
          },
          "metadata": {},
          "execution_count": 30
        }
      ]
    },
    {
      "cell_type": "code",
      "source": [
        "model.h[1]"
      ],
      "metadata": {
        "colab": {
          "base_uri": "https://localhost:8080/"
        },
        "id": "u6zbKG20m7yo",
        "outputId": "7574cc7d-f103-4305-8fd5-7482c82b00e5"
      },
      "execution_count": null,
      "outputs": [
        {
          "output_type": "execute_result",
          "data": {
            "text/plain": [
              "GPT2Block(\n",
              "  (ln_1): LayerNorm((768,), eps=1e-05, elementwise_affine=True)\n",
              "  (attn): GPT2Attention(\n",
              "    (c_attn): Conv1D()\n",
              "    (c_proj): Conv1D()\n",
              "    (attn_dropout): Dropout(p=0.1, inplace=False)\n",
              "    (resid_dropout): Dropout(p=0.1, inplace=False)\n",
              "  )\n",
              "  (ln_2): LayerNorm((768,), eps=1e-05, elementwise_affine=True)\n",
              "  (mlp): GPT2MLP(\n",
              "    (c_fc): Conv1D()\n",
              "    (c_proj): Conv1D()\n",
              "    (act): NewGELUActivation()\n",
              "    (dropout): Dropout(p=0.1, inplace=False)\n",
              "  )\n",
              ")"
            ]
          },
          "metadata": {},
          "execution_count": 31
        }
      ]
    },
    {
      "cell_type": "code",
      "source": [
        "model.h[1].ln_1"
      ],
      "metadata": {
        "colab": {
          "base_uri": "https://localhost:8080/"
        },
        "id": "VhBKPsLinEEJ",
        "outputId": "a2d65b81-1049-4459-96d1-b432127a2250"
      },
      "execution_count": null,
      "outputs": [
        {
          "output_type": "execute_result",
          "data": {
            "text/plain": [
              "LayerNorm((768,), eps=1e-05, elementwise_affine=True)"
            ]
          },
          "metadata": {},
          "execution_count": 32
        }
      ]
    },
    {
      "cell_type": "code",
      "source": [
        "model.h[1].attn"
      ],
      "metadata": {
        "colab": {
          "base_uri": "https://localhost:8080/"
        },
        "id": "Riz4DAjcnG_y",
        "outputId": "3ed7c6ac-0778-4b4d-8d3e-7f53dbb7ea41"
      },
      "execution_count": null,
      "outputs": [
        {
          "output_type": "execute_result",
          "data": {
            "text/plain": [
              "GPT2Attention(\n",
              "  (c_attn): Conv1D()\n",
              "  (c_proj): Conv1D()\n",
              "  (attn_dropout): Dropout(p=0.1, inplace=False)\n",
              "  (resid_dropout): Dropout(p=0.1, inplace=False)\n",
              ")"
            ]
          },
          "metadata": {},
          "execution_count": 33
        }
      ]
    },
    {
      "cell_type": "code",
      "source": [
        "model.h[1].attn.c_attn.weight.shape"
      ],
      "metadata": {
        "colab": {
          "base_uri": "https://localhost:8080/"
        },
        "id": "gDiyrJ3lnJoM",
        "outputId": "1c0082fb-a30a-4679-9294-cadbbc1fc420"
      },
      "execution_count": null,
      "outputs": [
        {
          "output_type": "execute_result",
          "data": {
            "text/plain": [
              "torch.Size([768, 2304])"
            ]
          },
          "metadata": {},
          "execution_count": 34
        }
      ]
    },
    {
      "cell_type": "code",
      "source": [
        "model.h[1].attn.c_proj.weight"
      ],
      "metadata": {
        "colab": {
          "base_uri": "https://localhost:8080/"
        },
        "id": "oE5QF6AWnPsN",
        "outputId": "ecc20381-c19f-4eb8-b8d2-affee5086995"
      },
      "execution_count": null,
      "outputs": [
        {
          "output_type": "execute_result",
          "data": {
            "text/plain": [
              "Parameter containing:\n",
              "tensor([[-0.0971, -0.0016,  0.1122,  ...,  0.0392,  0.1169,  0.1239],\n",
              "        [ 0.1013,  0.0531, -0.0848,  ..., -0.0437, -0.0922, -0.0505],\n",
              "        [-0.0225,  0.0412,  0.0546,  ...,  0.0936, -0.0534, -0.0834],\n",
              "        ...,\n",
              "        [ 0.0392, -0.0349, -0.1370,  ..., -0.0106, -0.0397, -0.0157],\n",
              "        [ 0.0724, -0.0834, -0.0412,  ..., -0.0476, -0.0742, -0.0440],\n",
              "        [-0.0368,  0.1253,  0.0460,  ..., -0.0314,  0.0441, -0.0880]],\n",
              "       requires_grad=True)"
            ]
          },
          "metadata": {},
          "execution_count": 35
        }
      ]
    },
    {
      "cell_type": "code",
      "source": [
        "model.parameters"
      ],
      "metadata": {
        "colab": {
          "base_uri": "https://localhost:8080/"
        },
        "id": "XzvKRCfSsT7a",
        "outputId": "9401e916-8d43-45e7-cc1f-44a26d459cff"
      },
      "execution_count": null,
      "outputs": [
        {
          "output_type": "execute_result",
          "data": {
            "text/plain": [
              "<bound method Module.parameters of GPT2Model(\n",
              "  (wte): Embedding(50257, 768)\n",
              "  (wpe): Embedding(1024, 768)\n",
              "  (drop): Dropout(p=0.1, inplace=False)\n",
              "  (h): ModuleList(\n",
              "    (0-11): 12 x GPT2Block(\n",
              "      (ln_1): LayerNorm((768,), eps=1e-05, elementwise_affine=True)\n",
              "      (attn): GPT2Attention(\n",
              "        (c_attn): Conv1D()\n",
              "        (c_proj): Conv1D()\n",
              "        (attn_dropout): Dropout(p=0.1, inplace=False)\n",
              "        (resid_dropout): Dropout(p=0.1, inplace=False)\n",
              "      )\n",
              "      (ln_2): LayerNorm((768,), eps=1e-05, elementwise_affine=True)\n",
              "      (mlp): GPT2MLP(\n",
              "        (c_fc): Conv1D()\n",
              "        (c_proj): Conv1D()\n",
              "        (act): NewGELUActivation()\n",
              "        (dropout): Dropout(p=0.1, inplace=False)\n",
              "      )\n",
              "    )\n",
              "  )\n",
              "  (ln_f): LayerNorm((768,), eps=1e-05, elementwise_affine=True)\n",
              ")>"
            ]
          },
          "metadata": {},
          "execution_count": 36
        }
      ]
    },
    {
      "cell_type": "code",
      "source": [
        "module_names = list(model._modules.keys())\n",
        "module_names"
      ],
      "metadata": {
        "colab": {
          "base_uri": "https://localhost:8080/"
        },
        "id": "d2sohwQYs6P4",
        "outputId": "e083d6d1-a8ce-416f-9098-661cb7624bfa"
      },
      "execution_count": null,
      "outputs": [
        {
          "output_type": "execute_result",
          "data": {
            "text/plain": [
              "['wte', 'wpe', 'drop', 'h', 'ln_f']"
            ]
          },
          "metadata": {},
          "execution_count": 37
        }
      ]
    },
    {
      "cell_type": "code",
      "source": [
        "model.h[0].attn.c_attn.weight.shape"
      ],
      "metadata": {
        "colab": {
          "base_uri": "https://localhost:8080/"
        },
        "id": "cHzufERlKNw1",
        "outputId": "75d226f2-9429-40c3-8e55-f3250345fa9c"
      },
      "execution_count": null,
      "outputs": [
        {
          "output_type": "execute_result",
          "data": {
            "text/plain": [
              "torch.Size([768, 2304])"
            ]
          },
          "metadata": {},
          "execution_count": 38
        }
      ]
    },
    {
      "cell_type": "code",
      "source": [
        "# fitting to the alpha stable distribution\n",
        "\n",
        "\"\"\"\n",
        "import numpy as np\n",
        "import pandas as pd\n",
        "from scipy.stats import levy_stable, norm, distributions\n",
        "from tqdm import tqdm\n",
        "\n",
        "pconv = lambda alpha, beta, mu, sigma: (alpha, beta, mu - sigma * beta * np.tan(np.pi * alpha / 2.0), sigma)\n",
        "col_names = [\"module_name\", \"alpha\", \"beta\", \"mu\", \"sigma\", \"shape\"]\n",
        "#df = pd.DataFrame(np.zeros((1,len(col_names))))\n",
        "#df = df.astype('object')\n",
        "#df.columns = col_names\n",
        "df = pd.DataFrame(columns=col_names)\n",
        "#l1_module_names = list(model._module.keys())\n",
        "#for midx, module_name in enumerate(l1_module_names):\n",
        "ridx = 0\n",
        "for midx, module_name in tqdm(enumerate(['wte', 'wpe', 'h', 'ln_f'])):\n",
        "    if module_name != \"h\":\n",
        "        #l2_module_names = model._modules[module_name]\n",
        "        weights = model._modules[module_name].weight.detach().numpy()\n",
        "        params = pconv(*levy_stable._fitstart(weights.flatten()))\n",
        "        df.loc[ridx,:] = [module_name] + list(params) + [weights.shape]\n",
        "        ridx += 1\n",
        "    else:\n",
        "        for gpt_idx in range(len(model.h)):\n",
        "            # f\"GPT2Block {gpt_idx}\"\n",
        "            #l2_module_names = list(model.h[gpt_idx].keys())\n",
        "            #for midx, l2_module_names in enumerate(l2_module_names):\n",
        "            weights = model.h[gpt_idx].ln_1.weight.detach().numpy()\n",
        "            params = pconv(*levy_stable._fitstart(weights.flatten()))\n",
        "            df.loc[ridx,:] = [f\"GPT2Block {gpt_idx} ln_1\"] + list(params) + [weights.shape]\n",
        "            ridx += 1\n",
        "            weights = model.h[gpt_idx].attn.c_attn.weight.detach().numpy()\n",
        "            params = pconv(*levy_stable._fitstart(weights.flatten()))\n",
        "            df.loc[ridx,:] = [f\"GPT2Block {gpt_idx} attn c_attn\"] + list(params) + [weights.shape]\n",
        "            ridx += 1\n",
        "            weights = model.h[gpt_idx].attn.c_proj.weight.detach().numpy()\n",
        "            params = pconv(*levy_stable._fitstart(weights.flatten()))\n",
        "            df.loc[ridx,:] = [f\"GPT2Block {gpt_idx} attn c_proj\"] + list(params) + [weights.shape]\n",
        "            ridx += 1\n",
        "            weights = model.h[gpt_idx].ln_2.weight.detach().numpy()\n",
        "            params = pconv(*levy_stable._fitstart(weights.flatten()))\n",
        "            df.loc[ridx,:] = [f\"GPT2Block {gpt_idx} ln_2\"] + list(params) + [weights.shape]\n",
        "            ridx += 1\n",
        "            weights = model.h[gpt_idx].mlp.c_fc.weight.detach().numpy()\n",
        "            params = pconv(*levy_stable._fitstart(weights.flatten()))\n",
        "            df.loc[ridx,:] = [f\"GPT2Block {gpt_idx} mlp c_fc\"] + list(params) + [weights.shape]\n",
        "            ridx += 1\n",
        "            weights = model.h[gpt_idx].mlp.c_proj.weight.detach().numpy()\n",
        "            params = pconv(*levy_stable._fitstart(weights.flatten()))\n",
        "            df.loc[ridx,:] = [f\"GPT2Block {gpt_idx} mlp c_proj\"] + list(params) + [weights.shape]\n",
        "            ridx += 1\n",
        "\n",
        "# save dataframe\n",
        "df.to_csv(\"gpt2_stablefit.csv\")\n",
        "\n",
        "# plot alpha stablefit\n",
        "import matplotlib.pyplot as plt\n",
        "fig, axs = plt.subplots(1, 3, sharex = False,sharey=False,figsize=(12.5 + 4.5, 9.5/2 + 0.5))\n",
        "axs[0].hist(model.h[0].attn.c_attn.weight.flatten().detach().numpy(),1000,density=True)\n",
        "axs[0].set_xlim(-1,1)\n",
        "x = np.linspace(-1, 1, 1000)\n",
        "y_stable = levy_stable.pdf(x, *df.iloc[3,1:5])\n",
        "axs[0].plot(x,y_stable,'r')\n",
        "axs[0].set_title(rf\"$\\alpha$ = {df.iloc[3,1]}\")\n",
        "axs[1].hist(model.h[0].attn.c_proj.weight.flatten().detach().numpy(),1000,density=True)\n",
        "axs[1].set_xlim(-1,1)\n",
        "x = np.linspace(-1, 1, 1000)\n",
        "y_stable = levy_stable.pdf(x, *df.iloc[4,1:5])\n",
        "axs[1].plot(x,y_stable,'r')\n",
        "axs[1].set_title(rf\"$\\alpha$ = {df.iloc[4,1]}\")\n",
        "axs[2].hist(df.iloc[:,1],25)\n",
        "#plt.show()\n",
        "plt.savefig(\"gpt2_stablefit.pdf\", bbox_inches='tight')\n",
        "\n",
        "\"\"\""
      ],
      "metadata": {
        "colab": {
          "base_uri": "https://localhost:8080/",
          "height": 122
        },
        "id": "bJv3fBN277hP",
        "outputId": "8e025d06-1747-4f74-ce4f-def1d3105d28"
      },
      "execution_count": null,
      "outputs": [
        {
          "output_type": "execute_result",
          "data": {
            "text/plain": [
              "'\\nimport numpy as np\\nimport pandas as pd\\nfrom scipy.stats import levy_stable, norm, distributions\\nfrom tqdm import tqdm\\n\\npconv = lambda alpha, beta, mu, sigma: (alpha, beta, mu - sigma * beta * np.tan(np.pi * alpha / 2.0), sigma)\\ncol_names = [\"module_name\", \"alpha\", \"beta\", \"mu\", \"sigma\", \"shape\"]\\n#df = pd.DataFrame(np.zeros((1,len(col_names)))) \\n#df = df.astype(\\'object\\')\\n#df.columns = col_names    \\ndf = pd.DataFrame(columns=col_names)\\n#l1_module_names = list(model._module.keys())\\n#for midx, module_name in enumerate(l1_module_names):\\nridx = 0\\nfor midx, module_name in tqdm(enumerate([\\'wte\\', \\'wpe\\', \\'h\\', \\'ln_f\\'])):\\n    if module_name != \"h\":\\n        #l2_module_names = model._modules[module_name]\\n        weights = model._modules[module_name].weight.detach().numpy()\\n        params = pconv(*levy_stable._fitstart(weights.flatten()))\\n        df.loc[ridx,:] = [module_name] + list(params) + [weights.shape]\\n        ridx += 1\\n    else:\\n        for gpt_idx in range(len(model.h)):\\n            # f\"GPT2Block {gpt_idx}\"\\n            #l2_module_names = list(model.h[gpt_idx].keys())\\n            #for midx, l2_module_names in enumerate(l2_module_names):\\n            weights = model.h[gpt_idx].ln_1.weight.detach().numpy()\\n            params = pconv(*levy_stable._fitstart(weights.flatten()))\\n            df.loc[ridx,:] = [f\"GPT2Block {gpt_idx} ln_1\"] + list(params) + [weights.shape]\\n            ridx += 1\\n            weights = model.h[gpt_idx].attn.c_attn.weight.detach().numpy()\\n            params = pconv(*levy_stable._fitstart(weights.flatten()))\\n            df.loc[ridx,:] = [f\"GPT2Block {gpt_idx} attn c_attn\"] + list(params) + [weights.shape]\\n            ridx += 1\\n            weights = model.h[gpt_idx].attn.c_proj.weight.detach().numpy()\\n            params = pconv(*levy_stable._fitstart(weights.flatten()))\\n            df.loc[ridx,:] = [f\"GPT2Block {gpt_idx} attn c_proj\"] + list(params) + [weights.shape]\\n            ridx += 1\\n            weights = model.h[gpt_idx].ln_2.weight.detach().numpy()\\n            params = pconv(*levy_stable._fitstart(weights.flatten()))\\n            df.loc[ridx,:] = [f\"GPT2Block {gpt_idx} ln_2\"] + list(params) + [weights.shape]\\n            ridx += 1\\n            weights = model.h[gpt_idx].mlp.c_fc.weight.detach().numpy()\\n            params = pconv(*levy_stable._fitstart(weights.flatten()))\\n            df.loc[ridx,:] = [f\"GPT2Block {gpt_idx} mlp c_fc\"] + list(params) + [weights.shape]\\n            ridx += 1\\n            weights = model.h[gpt_idx].mlp.c_proj.weight.detach().numpy()\\n            params = pconv(*levy_stable._fitstart(weights.flatten()))\\n            df.loc[ridx,:] = [f\"GPT2Block {gpt_idx} mlp c_proj\"] + list(params) + [weights.shape]\\n            ridx += 1\\n\\n# save dataframe\\ndf.to_csv(\"gpt2_stablefit.csv\")\\n\\n# plot alpha stablefit\\nimport matplotlib.pyplot as plt\\nfig, axs = plt.subplots(1, 3, sharex = False,sharey=False,figsize=(12.5 + 4.5, 9.5/2 + 0.5))\\naxs[0].hist(model.h[0].attn.c_attn.weight.flatten().detach().numpy(),1000,density=True)\\naxs[0].set_xlim(-1,1)\\nx = np.linspace(-1, 1, 1000)\\ny_stable = levy_stable.pdf(x, *df.iloc[3,1:5])\\naxs[0].plot(x,y_stable,\\'r\\')\\naxs[0].set_title(rf\"$\\x07lpha$ = {df.iloc[3,1]}\")\\naxs[1].hist(model.h[0].attn.c_proj.weight.flatten().detach().numpy(),1000,density=True)\\naxs[1].set_xlim(-1,1)\\nx = np.linspace(-1, 1, 1000)\\ny_stable = levy_stable.pdf(x, *df.iloc[4,1:5])\\naxs[1].plot(x,y_stable,\\'r\\')\\naxs[1].set_title(rf\"$\\x07lpha$ = {df.iloc[4,1]}\")\\naxs[2].hist(df.iloc[:,1],25)\\n#plt.show()\\nplt.savefig(\"gpt2_stablefit.pdf\", bbox_inches=\\'tight\\')\\n\\n'"
            ],
            "application/vnd.google.colaboratory.intrinsic+json": {
              "type": "string"
            }
          },
          "metadata": {},
          "execution_count": 41
        }
      ]
    },
    {
      "cell_type": "code",
      "source": [
        "hidden_module_1 = model._modules[module_names[0]]\n",
        "type(hidden_module_1)"
      ],
      "metadata": {
        "colab": {
          "base_uri": "https://localhost:8080/"
        },
        "id": "cAOzMr3jtETP",
        "outputId": "e40d3fa7-d4f0-4091-8661-465c1b553c76"
      },
      "execution_count": null,
      "outputs": [
        {
          "output_type": "execute_result",
          "data": {
            "text/plain": [
              "torch.nn.modules.sparse.Embedding"
            ]
          },
          "metadata": {},
          "execution_count": 42
        }
      ]
    },
    {
      "cell_type": "code",
      "source": [
        "# get weights\n",
        "hidden_module_1.weight.shape"
      ],
      "metadata": {
        "colab": {
          "base_uri": "https://localhost:8080/"
        },
        "id": "SgMEYbfXtpJ9",
        "outputId": "fb6f8b3c-fbe3-426f-a612-9696e9c12e27"
      },
      "execution_count": null,
      "outputs": [
        {
          "output_type": "execute_result",
          "data": {
            "text/plain": [
              "torch.Size([50257, 768])"
            ]
          },
          "metadata": {},
          "execution_count": 43
        }
      ]
    },
    {
      "cell_type": "code",
      "source": [
        "model._modules['h'][0]"
      ],
      "metadata": {
        "colab": {
          "base_uri": "https://localhost:8080/"
        },
        "id": "2N3nNgN_swPh",
        "outputId": "55233751-5d33-458f-b07a-90b87ad59746"
      },
      "execution_count": null,
      "outputs": [
        {
          "output_type": "execute_result",
          "data": {
            "text/plain": [
              "GPT2Block(\n",
              "  (ln_1): LayerNorm((768,), eps=1e-05, elementwise_affine=True)\n",
              "  (attn): GPT2Attention(\n",
              "    (c_attn): Conv1D()\n",
              "    (c_proj): Conv1D()\n",
              "    (attn_dropout): Dropout(p=0.1, inplace=False)\n",
              "    (resid_dropout): Dropout(p=0.1, inplace=False)\n",
              "  )\n",
              "  (ln_2): LayerNorm((768,), eps=1e-05, elementwise_affine=True)\n",
              "  (mlp): GPT2MLP(\n",
              "    (c_fc): Conv1D()\n",
              "    (c_proj): Conv1D()\n",
              "    (act): NewGELUActivation()\n",
              "    (dropout): Dropout(p=0.1, inplace=False)\n",
              "  )\n",
              ")"
            ]
          },
          "metadata": {},
          "execution_count": 44
        }
      ]
    },
    {
      "cell_type": "code",
      "source": [
        "model._modules['ln_f'].weight.shape"
      ],
      "metadata": {
        "colab": {
          "base_uri": "https://localhost:8080/"
        },
        "id": "R4odT4QUtWNr",
        "outputId": "fac94e2b-87f7-440b-ca3f-95f8d31736bb"
      },
      "execution_count": null,
      "outputs": [
        {
          "output_type": "execute_result",
          "data": {
            "text/plain": [
              "torch.Size([768])"
            ]
          },
          "metadata": {},
          "execution_count": 46
        }
      ]
    },
    {
      "cell_type": "code",
      "source": [
        "type(model._modules['h'])"
      ],
      "metadata": {
        "colab": {
          "base_uri": "https://localhost:8080/"
        },
        "id": "j52ntsfnrrAv",
        "outputId": "93c78e9a-9c2c-4d13-a0bf-8394e07da9a7"
      },
      "execution_count": null,
      "outputs": [
        {
          "output_type": "execute_result",
          "data": {
            "text/plain": [
              "torch.nn.modules.container.ModuleList"
            ]
          },
          "metadata": {},
          "execution_count": 47
        }
      ]
    },
    {
      "cell_type": "code",
      "source": [
        "type(model._modules['h'][0])"
      ],
      "metadata": {
        "colab": {
          "base_uri": "https://localhost:8080/"
        },
        "id": "9qqUaoBJruuK",
        "outputId": "f3ea6192-da25-429d-ef33-fa194abb6a51"
      },
      "execution_count": null,
      "outputs": [
        {
          "output_type": "execute_result",
          "data": {
            "text/plain": [
              "transformers.models.gpt2.modeling_gpt2.GPT2Block"
            ]
          },
          "metadata": {},
          "execution_count": 48
        }
      ]
    },
    {
      "cell_type": "code",
      "source": [
        "# word embedding example\n",
        "from transformers import GPT2LMHeadModel\n",
        "model_embedder = GPT2LMHeadModel.from_pretrained('gpt2')\n",
        "text_index = tokenizer.encode('man', add_prefix_space=True)\n",
        "vector = model_embedder.transformer.wte.weight[text_index,:]\n",
        "vector"
      ],
      "metadata": {
        "colab": {
          "base_uri": "https://localhost:8080/"
        },
        "id": "G9QOoEejXLEF",
        "outputId": "1c332f5e-7322-4984-ee74-adb287c74466"
      },
      "execution_count": null,
      "outputs": [
        {
          "output_type": "execute_result",
          "data": {
            "text/plain": [
              "tensor([[ 3.9063e-03, -4.5373e-03,  9.5696e-03, -3.2733e-02, -5.3765e-02,\n",
              "          7.7608e-03, -3.4522e-01, -2.7065e-02,  1.3558e-02, -1.1779e-01,\n",
              "          1.1969e-01, -2.9199e-02,  1.5931e-01,  2.5662e-03,  3.6582e-02,\n",
              "          6.5900e-02,  8.8321e-02, -1.3107e-01, -4.5553e-02,  9.9681e-02,\n",
              "          1.3703e-02,  8.6290e-02, -8.6695e-02,  1.4481e-01, -3.3118e-02,\n",
              "          5.1048e-02,  3.9003e-02, -4.9227e-02, -7.9979e-03, -1.4979e-01,\n",
              "         -2.3583e-02,  1.9372e-02,  6.7714e-02,  4.4881e-02, -9.2997e-02,\n",
              "          1.7100e-01, -3.1543e-01,  6.9204e-02, -4.9375e-02, -7.6422e-02,\n",
              "         -7.7999e-02,  3.6177e-02, -7.5628e-02,  1.6870e-01, -1.3687e-01,\n",
              "          9.1324e-02,  6.0595e-02,  1.6535e-02,  8.5104e-03, -1.2422e-01,\n",
              "         -1.6366e-02, -1.4682e-01, -4.5709e-03,  8.7555e-02, -5.5320e-02,\n",
              "         -1.7597e-01, -6.9579e-02,  1.5793e-02, -4.5716e-02,  1.0274e-01,\n",
              "         -1.8335e-01,  1.1280e-01, -1.8709e-01,  2.0712e-01, -1.4833e-01,\n",
              "          8.7064e-02, -1.7650e-01, -3.3049e-01,  1.2093e-01,  2.4601e-02,\n",
              "          2.2927e-02, -5.0189e-02, -7.8084e-02, -3.2113e-02,  8.8573e-02,\n",
              "          5.2611e-02, -1.3216e-01,  2.0180e-01, -2.3714e-02, -7.2107e-03,\n",
              "         -4.1647e-02, -1.2917e-01,  4.8639e-02,  2.2971e-02, -1.0159e-01,\n",
              "          3.8028e-02, -1.1118e-01, -1.7662e-01, -1.6491e-01,  6.1682e-02,\n",
              "         -4.9178e-03, -1.3805e-01, -2.4148e-02,  2.1854e-01, -1.4082e-01,\n",
              "          4.9061e-02, -1.7185e-03,  1.1636e-01, -1.5023e-02, -2.2116e-02,\n",
              "         -5.9665e-02, -7.4342e-02, -1.7457e-01, -5.0346e-02,  1.0659e-01,\n",
              "          1.2539e-01, -1.0904e-01, -1.9508e-01,  2.1124e-01, -3.9009e-02,\n",
              "          6.1486e-02,  1.7385e-01,  6.6532e-02,  5.0571e-02, -5.4264e-02,\n",
              "         -5.0805e-02, -3.1154e-02,  3.6842e-02,  2.3946e-02,  1.5895e-01,\n",
              "         -3.7865e-02,  3.3995e-02,  9.2256e-02, -2.9034e-03, -8.7554e-03,\n",
              "         -8.4852e-02, -3.9891e-02, -8.6768e-03,  2.6479e-02,  1.3453e-01,\n",
              "          1.0738e-01,  1.5071e-01, -4.2632e-02, -9.2491e-02,  2.1514e-02,\n",
              "         -3.6988e-02, -6.9282e-02,  1.6886e-01,  3.0109e-01, -1.9017e-01,\n",
              "          1.0686e-01,  1.5444e-01,  3.3175e-01, -9.5091e-02,  8.1852e-02,\n",
              "         -1.7614e-01,  2.0742e-02, -4.5088e-03, -1.3558e-01,  8.1060e-02,\n",
              "          6.8643e-02,  3.8007e-02, -8.7563e-02, -7.8217e-02,  2.7129e-02,\n",
              "         -1.0317e-01, -5.2484e-02, -8.9479e-02, -2.2007e-01,  1.5986e-02,\n",
              "         -8.3462e-02,  9.4655e-02,  2.1717e-02,  1.8392e-01,  2.7458e-01,\n",
              "          7.6427e-02, -1.2705e-01,  1.8604e-01, -1.8464e-02,  3.3815e-02,\n",
              "          3.3047e-03, -1.4658e-02, -2.3286e-01,  8.3352e-02,  1.5560e-01,\n",
              "          7.8835e-02,  8.3464e-02, -7.1439e-03, -7.2069e-02, -2.5783e-02,\n",
              "         -1.7163e-01,  2.7978e-02,  3.2133e-03, -6.6586e-02, -1.7640e-02,\n",
              "          6.2470e-02, -8.0844e-02, -6.8222e-02,  1.1063e-01, -7.5651e-02,\n",
              "          3.1756e-02,  1.0867e-01, -5.6910e-02,  1.4817e-01,  6.0092e-02,\n",
              "          3.7368e-02,  3.7162e-02, -1.2461e-01,  7.3560e-02,  1.2834e-02,\n",
              "         -3.5984e-02,  6.8824e-02,  4.6920e-02,  3.5343e-02, -1.1573e-01,\n",
              "          1.0673e-01,  6.8087e-02, -8.8688e-02, -1.0657e-01, -1.1335e-01,\n",
              "          6.0637e-02, -5.1902e-02,  1.4908e-01, -1.3877e-01,  8.8372e-03,\n",
              "         -2.7942e-02, -1.1336e-01,  7.9618e-03,  5.5239e-02,  6.7059e-02,\n",
              "         -1.2230e-01, -1.1166e-01, -1.2082e-01,  3.3413e-02, -2.7497e-02,\n",
              "          5.2174e-02, -1.4546e-01, -8.4256e-02,  1.3313e-02,  1.7603e-01,\n",
              "          1.6318e-01, -1.1009e-01, -3.0141e-01, -1.6899e-01, -1.4177e-01,\n",
              "         -4.8347e-02, -9.4793e-02, -3.9768e-02, -1.0682e-01,  1.7617e-02,\n",
              "         -1.1400e-01, -2.1044e-01,  7.7873e-02, -1.7864e-01, -1.4181e-01,\n",
              "         -4.4068e-02,  2.3226e-02, -3.7317e-02,  6.2854e-02, -2.8214e-02,\n",
              "          1.8406e-01,  2.2098e-01, -1.7517e-01,  9.4685e-02, -4.5840e-02,\n",
              "          2.1785e-02, -2.7634e-02, -3.9636e-02,  5.4499e-03, -2.5986e-02,\n",
              "          1.0435e-01, -8.7059e-02, -2.1601e-01,  7.2749e-02,  1.4532e-01,\n",
              "          2.7742e-02, -1.8013e-01,  2.0631e-02,  9.4735e-02, -1.0377e-01,\n",
              "          2.2037e-01, -1.0782e-01, -3.2513e-02,  3.4985e-02,  1.8891e-02,\n",
              "         -1.6402e-02,  4.5371e-02,  5.2308e-02, -6.1218e-03,  1.0507e-01,\n",
              "          6.6393e-02, -1.1707e-01, -4.6681e-02, -1.1661e-01,  1.5055e-02,\n",
              "         -5.4660e-02, -1.0144e-01,  9.5908e-02, -1.1686e-01,  6.7952e-02,\n",
              "         -9.2652e-02,  1.3298e-01,  1.7265e-01,  1.2494e-01, -4.4862e-02,\n",
              "          9.6786e-02,  2.0512e-01, -7.7237e-02,  1.2765e-01, -1.5784e-01,\n",
              "         -6.9353e-03, -1.5886e-01,  2.8519e-02, -4.9175e-02, -5.1478e-02,\n",
              "         -5.4062e-02, -1.2041e-02,  5.1074e-02,  7.1055e-02,  2.6305e-03,\n",
              "         -1.1064e-01,  9.4605e-02, -1.1830e-01, -3.3561e-02,  1.7725e-01,\n",
              "          1.1506e-01, -4.6769e-02,  6.6494e-02, -1.1424e-01,  8.9900e-02,\n",
              "          1.0700e-01,  1.6567e-02, -1.9192e-01, -1.7935e-01, -2.8484e-02,\n",
              "          1.1145e-01, -2.2097e-01, -5.8877e-02,  7.3187e-02, -4.7806e-02,\n",
              "          8.1123e-02, -9.4201e-04, -2.0238e-01,  1.0464e-01, -8.2583e-02,\n",
              "          1.0657e-01,  3.8699e-03, -3.2679e-02,  2.2485e-01,  2.6822e-03,\n",
              "         -6.6831e-02,  1.8785e-02,  1.9162e-02,  5.6618e-02,  2.1391e-02,\n",
              "          7.3634e-02,  2.1142e-02,  5.4804e-02, -1.3204e-03, -6.1786e-02,\n",
              "         -9.0577e-02, -1.2784e-01,  8.4155e-02,  5.2264e-02,  4.1553e-02,\n",
              "         -1.2964e-01,  1.1119e-01,  1.3868e-01, -3.2441e-03, -7.0057e-02,\n",
              "         -8.7736e-02,  2.3199e-02, -1.7435e-01, -9.8910e-02, -5.8494e-03,\n",
              "          1.3685e-01,  2.2909e-02, -4.6062e-02, -2.6509e-02, -1.5172e-01,\n",
              "         -4.6191e-03,  1.5515e-01,  2.3706e-01, -1.3618e-01,  1.7109e-01,\n",
              "          1.3642e-02,  2.1778e-01, -1.1352e-01, -4.1028e-02, -3.3593e-03,\n",
              "          1.9450e-01,  1.3678e-02, -1.4563e-01,  3.6044e-02,  1.7776e-01,\n",
              "          3.7510e-02,  5.1400e-03,  8.2159e-02, -2.1419e-01,  1.1998e-01,\n",
              "          1.4344e-02,  1.5354e-01, -9.7343e-02,  9.0334e-02, -4.5283e-02,\n",
              "          1.0674e-01,  5.2214e-02,  2.5004e-01,  1.5281e-01, -1.4131e-01,\n",
              "          3.3917e-04,  2.3385e-02, -9.2450e-02,  6.7061e-02,  6.1806e-02,\n",
              "          1.1245e-01, -6.0333e-02, -1.0568e-01, -1.4307e-01, -1.7549e-02,\n",
              "          2.6831e-02, -6.8623e-02, -4.2361e-02, -1.4916e-01, -1.2221e-01,\n",
              "         -2.0335e-02, -7.6475e-02,  3.4138e-02,  2.9472e-02,  1.7834e-02,\n",
              "          1.7480e-01, -7.3615e-02, -6.6082e-02, -3.0888e-02,  1.8997e-01,\n",
              "         -3.4777e-03, -5.3202e-02,  6.3471e-02, -1.0521e-01, -6.8250e-02,\n",
              "         -2.5552e-01,  1.2921e-01, -3.9068e-02,  1.4336e-01, -5.5546e-03,\n",
              "         -4.8841e-02, -4.6375e-02, -3.3715e-02, -6.4912e-02, -2.2875e-01,\n",
              "         -2.0084e-01, -2.0339e-01, -2.1269e-01,  1.5230e-01, -3.0856e-02,\n",
              "         -8.5439e-02,  1.7718e-01,  1.3134e-01,  8.0069e-02,  6.6423e-02,\n",
              "          4.2265e-02, -8.8446e-02, -6.7375e-02,  2.0178e-02,  1.0654e-01,\n",
              "         -1.3085e-01,  1.4242e-01,  2.3607e-02, -1.9804e-03, -7.5715e-02,\n",
              "         -6.9026e-02,  9.8351e-02,  5.3396e-02,  1.6041e-02, -4.0360e-02,\n",
              "         -1.6489e-02, -1.4848e-01,  1.4451e-01, -2.6583e-02, -1.3612e-02,\n",
              "         -1.0862e-01,  1.2719e-02, -1.2995e-01,  5.6063e-02,  1.1997e-01,\n",
              "         -1.3335e-01, -3.5407e-02,  1.0748e-01, -1.6368e-02,  1.7719e-01,\n",
              "         -1.9119e-01,  1.2682e-01,  1.2242e-02, -2.5224e-02,  4.2876e-02,\n",
              "         -6.4125e-02, -4.0296e-02, -1.4538e-01, -2.3788e-01, -1.8893e-01,\n",
              "         -1.5513e-01,  1.9958e-02, -3.0215e-03,  3.3651e-02,  1.0365e-01,\n",
              "          8.4597e-02, -2.0459e-01,  8.6752e-02, -1.9653e-01, -1.7608e-01,\n",
              "          2.5211e-02,  1.4681e-02,  6.0676e-02,  1.6713e-01,  8.5350e-02,\n",
              "          1.0812e-01, -8.0665e-03, -4.9889e-02, -1.9119e-01, -1.5474e-01,\n",
              "         -8.7936e-02,  2.3096e-01, -9.5579e-02,  2.9209e-02, -1.0420e-01,\n",
              "         -3.7576e-02,  1.4708e-01,  1.1667e-01,  1.2425e-01, -1.9328e-01,\n",
              "         -6.2170e-02, -1.5503e-01,  4.3629e-03, -1.9197e-01,  2.4167e-01,\n",
              "         -9.6257e-03,  3.8978e-01,  6.7166e-02, -4.5472e-03, -3.2924e-02,\n",
              "         -6.3178e-02, -3.4796e-01, -1.9277e-02,  1.6160e-01,  1.0635e-01,\n",
              "          1.5618e-01, -3.1591e-03, -1.6140e-03,  6.2249e-02, -1.7872e-02,\n",
              "         -1.0781e-01,  3.8123e-02,  1.8510e-01,  6.3319e-02,  1.2100e-01,\n",
              "          7.4653e-02,  1.4734e-01, -2.0390e-01,  1.1632e-01,  8.3602e-02,\n",
              "         -1.6296e-01, -1.8945e-01, -1.7904e-01,  3.8931e-02,  1.1534e-01,\n",
              "         -6.1420e-02, -1.9041e-02, -1.3165e-01,  2.4740e-02,  3.8341e-02,\n",
              "          9.7750e-02, -1.3830e-03,  1.0290e-01, -1.9455e-01, -9.4239e-02,\n",
              "         -7.5858e-02, -1.0068e-01, -2.4069e-02, -1.1572e-01,  2.6955e-03,\n",
              "         -9.4984e-02, -5.0287e-03, -1.1422e-02,  9.2628e-02, -6.3469e-02,\n",
              "         -9.9235e-02, -8.4242e-02,  1.4187e-01,  7.7090e-02,  1.1336e-01,\n",
              "          1.2159e-02,  3.7225e-02, -9.3632e-02,  5.9628e-02,  1.7570e-02,\n",
              "          1.8020e-01, -8.5105e-02, -2.0420e-02,  7.9832e-03,  1.1418e-01,\n",
              "          1.9949e-02, -8.7127e-02,  8.8788e-02, -1.9022e-02,  1.2935e-01,\n",
              "         -9.1653e-02,  1.9477e-01, -1.7271e-01, -9.6611e-02, -1.1456e-01,\n",
              "          1.8519e-01,  5.4457e-02,  2.3113e-01,  5.9284e-02,  5.3810e-03,\n",
              "          9.8748e-03,  9.3154e-02,  4.9819e-02, -1.1412e-01,  1.4908e-01,\n",
              "         -5.5778e-03,  2.1955e-02,  4.6698e-02, -1.7670e-01, -3.3142e-02,\n",
              "         -4.9293e-04,  6.7233e-02, -2.0490e-03,  2.2667e-01, -1.0126e-01,\n",
              "          5.8549e-03,  2.2139e-01, -6.4745e-02,  3.0538e-03,  1.9811e-01,\n",
              "         -6.8659e-02, -6.9815e-04,  1.5972e-01,  5.0627e-02,  1.5208e-01,\n",
              "          1.7849e-01, -3.2659e-02, -9.9295e-02, -2.1530e-02,  6.8713e-02,\n",
              "          2.0777e-01,  2.3359e-02,  1.8768e-01,  8.6887e-02,  2.3639e-02,\n",
              "         -1.2029e-01,  1.6636e-01, -4.8683e-02, -8.2971e-02,  5.2107e-02,\n",
              "          6.6158e-02, -1.0950e-01, -5.2007e-02,  1.2299e-01,  1.2749e-01,\n",
              "          1.6740e-01,  1.2642e-02, -2.2765e-02, -8.7113e-02,  1.0255e-02,\n",
              "         -1.5620e-01,  7.1068e-02,  4.9705e-02, -1.7959e-01, -1.4548e-01,\n",
              "          8.6252e-02,  1.1168e-01,  8.6965e-02, -1.5990e-01, -1.3156e-01,\n",
              "         -6.2156e-02,  1.0310e-01,  2.8916e-02, -2.2275e-01,  5.4399e-02,\n",
              "          9.4151e-02, -1.0083e-01,  9.0902e-02, -5.4793e-02,  1.5939e-01,\n",
              "         -3.3460e-02,  1.8923e-02,  1.7127e-02, -8.6495e-02, -1.9072e-01,\n",
              "         -2.0930e-02, -6.4512e-02,  4.2633e-02,  1.0262e-01,  1.4108e-01,\n",
              "          2.1351e-02,  3.9873e-02,  1.1829e-01, -1.9763e-01,  6.8718e-02,\n",
              "         -2.0739e-01,  1.4730e-02,  8.6567e-02,  1.4285e-01, -1.6422e-02,\n",
              "         -8.7186e-03,  7.3635e-02, -1.6478e-01, -1.3292e-01, -6.2607e-02,\n",
              "          1.2034e-01, -8.3493e-02,  5.2808e-02,  2.4664e-01, -1.0927e-02,\n",
              "          4.7271e-02,  6.9881e-02,  7.1662e-02,  5.0071e-02,  1.6912e-01,\n",
              "         -2.9316e-03, -1.3856e-01,  1.7728e-01, -1.9583e-02,  6.0156e-03,\n",
              "         -1.0341e-01, -1.2373e-01,  3.3143e-03, -4.2570e-02, -3.0848e-03,\n",
              "         -6.9924e-02,  2.0581e-01,  1.0748e-01, -2.7379e-02, -6.2184e-02,\n",
              "         -9.6055e-02, -4.3253e-02,  9.3927e-02,  1.4792e-01,  8.0565e-02,\n",
              "          2.8364e-02,  3.3698e-02, -4.0870e-02, -1.4707e-01, -1.1091e-01,\n",
              "          1.1541e-01,  4.5926e-02,  3.4909e-02,  1.6851e-01,  2.7995e-02,\n",
              "          5.8122e-02, -9.7430e-02, -8.8516e-02,  1.8580e-01,  1.2805e-02,\n",
              "          8.9394e-02,  7.4373e-02, -1.4178e-01, -9.5191e-02,  5.6701e-02,\n",
              "          6.4512e-02,  1.8621e-01,  1.2305e-01, -6.6578e-03,  8.7135e-02,\n",
              "          1.4608e-01, -1.1964e-01,  1.1053e-01, -9.3479e-03,  1.2186e-01,\n",
              "          7.9977e-02, -1.9404e-01, -1.2940e-01, -6.5794e-02,  8.2678e-02,\n",
              "         -1.2483e-01, -7.2608e-02, -3.1051e-02]], grad_fn=<IndexBackward0>)"
            ]
          },
          "metadata": {},
          "execution_count": 49
        }
      ]
    },
    {
      "cell_type": "code",
      "source": [
        "vector.shape"
      ],
      "metadata": {
        "colab": {
          "base_uri": "https://localhost:8080/"
        },
        "id": "kBR1oJcLYMzi",
        "outputId": "7f3d480d-dfb1-49d7-ff8a-df4d90089119"
      },
      "execution_count": null,
      "outputs": [
        {
          "output_type": "execute_result",
          "data": {
            "text/plain": [
              "torch.Size([1, 768])"
            ]
          },
          "metadata": {},
          "execution_count": 50
        }
      ]
    },
    {
      "cell_type": "code",
      "source": [
        "model.modules"
      ],
      "metadata": {
        "colab": {
          "base_uri": "https://localhost:8080/"
        },
        "id": "EwWeMQUqVxE-",
        "outputId": "a7a3502a-e7bf-40b6-9611-dd4f42d1b530"
      },
      "execution_count": null,
      "outputs": [
        {
          "output_type": "execute_result",
          "data": {
            "text/plain": [
              "<bound method Module.modules of GPT2Model(\n",
              "  (wte): Embedding(50257, 768)\n",
              "  (wpe): Embedding(1024, 768)\n",
              "  (drop): Dropout(p=0.1, inplace=False)\n",
              "  (h): ModuleList(\n",
              "    (0-11): 12 x GPT2Block(\n",
              "      (ln_1): LayerNorm((768,), eps=1e-05, elementwise_affine=True)\n",
              "      (attn): GPT2Attention(\n",
              "        (c_attn): Conv1D()\n",
              "        (c_proj): Conv1D()\n",
              "        (attn_dropout): Dropout(p=0.1, inplace=False)\n",
              "        (resid_dropout): Dropout(p=0.1, inplace=False)\n",
              "      )\n",
              "      (ln_2): LayerNorm((768,), eps=1e-05, elementwise_affine=True)\n",
              "      (mlp): GPT2MLP(\n",
              "        (c_fc): Conv1D()\n",
              "        (c_proj): Conv1D()\n",
              "        (act): NewGELUActivation()\n",
              "        (dropout): Dropout(p=0.1, inplace=False)\n",
              "      )\n",
              "    )\n",
              "  )\n",
              "  (ln_f): LayerNorm((768,), eps=1e-05, elementwise_affine=True)\n",
              ")>"
            ]
          },
          "metadata": {},
          "execution_count": 51
        }
      ]
    }
  ]
}